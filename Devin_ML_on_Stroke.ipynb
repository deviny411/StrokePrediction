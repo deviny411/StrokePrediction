{
  "nbformat": 4,
  "nbformat_minor": 0,
  "metadata": {
    "colab": {
      "provenance": []
    },
    "kernelspec": {
      "name": "python3",
      "display_name": "Python 3"
    },
    "language_info": {
      "name": "python"
    }
  },
  "cells": [
    {
      "cell_type": "code",
      "metadata": {
        "id": "UBaWkEjFik0K"
      },
      "source": [
        "import matplotlib.pyplot as plt\n",
        "import numpy as np\n",
        "import pandas as pd\n",
        "import seaborn as sns\n",
        "from sklearn.model_selection import train_test_split\n",
        "from sklearn import preprocessing\n",
        "from tensorflow.keras.models import Sequential\n",
        "from tensorflow.keras.layers import Dense,Activation\n",
        "from tensorflow.keras.losses import BinaryCrossentropy\n",
        "from sklearn.metrics import classification_report\n",
        "from sklearn.feature_selection import RFE\n",
        "from sklearn.tree import DecisionTreeClassifier\n",
        "from sklearn.metrics import accuracy_score"
      ],
      "execution_count": null,
      "outputs": []
    },
    {
      "cell_type": "code",
      "metadata": {
        "id": "sJPG2DVjiqH_",
        "colab": {
          "base_uri": "https://localhost:8080/"
        },
        "outputId": "7d7a7e26-9046-45f5-8ab1-25fbbaa4d679"
      },
      "source": [
        "from google.colab import drive\n",
        "drive.mount('/content/drive')"
      ],
      "execution_count": null,
      "outputs": [
        {
          "output_type": "stream",
          "name": "stdout",
          "text": [
            "Mounted at /content/drive\n"
          ]
        }
      ]
    },
    {
      "cell_type": "code",
      "metadata": {
        "id": "zVdFDWY-itB_"
      },
      "source": [
        "df = pd.read_csv('/content/healthcare-dataset-stroke-data.csv')"
      ],
      "execution_count": null,
      "outputs": []
    },
    {
      "cell_type": "code",
      "metadata": {
        "colab": {
          "base_uri": "https://localhost:8080/",
          "height": 424
        },
        "id": "4ckadNKNi9RQ",
        "outputId": "5b725af3-6ba7-4d4b-a385-33a13b70eb7b"
      },
      "source": [
        "df"
      ],
      "execution_count": null,
      "outputs": [
        {
          "output_type": "execute_result",
          "data": {
            "text/plain": [
              "         id  gender   age  hypertension  heart_disease ever_married  \\\n",
              "0      9046    Male  67.0             0              1          Yes   \n",
              "1     51676  Female  61.0             0              0          Yes   \n",
              "2     31112    Male  80.0             0              1          Yes   \n",
              "3     60182  Female  49.0             0              0          Yes   \n",
              "4      1665  Female  79.0             1              0          Yes   \n",
              "...     ...     ...   ...           ...            ...          ...   \n",
              "5105  18234  Female  80.0             1              0          Yes   \n",
              "5106  44873  Female  81.0             0              0          Yes   \n",
              "5107  19723  Female  35.0             0              0          Yes   \n",
              "5108  37544    Male  51.0             0              0          Yes   \n",
              "5109  44679  Female  44.0             0              0          Yes   \n",
              "\n",
              "          work_type Residence_type  avg_glucose_level   bmi   smoking_status  \\\n",
              "0           Private          Urban             228.69  36.6  formerly smoked   \n",
              "1     Self-employed          Rural             202.21   NaN     never smoked   \n",
              "2           Private          Rural             105.92  32.5     never smoked   \n",
              "3           Private          Urban             171.23  34.4           smokes   \n",
              "4     Self-employed          Rural             174.12  24.0     never smoked   \n",
              "...             ...            ...                ...   ...              ...   \n",
              "5105        Private          Urban              83.75   NaN     never smoked   \n",
              "5106  Self-employed          Urban             125.20  40.0     never smoked   \n",
              "5107  Self-employed          Rural              82.99  30.6     never smoked   \n",
              "5108        Private          Rural             166.29  25.6  formerly smoked   \n",
              "5109       Govt_job          Urban              85.28  26.2          Unknown   \n",
              "\n",
              "      stroke  \n",
              "0          1  \n",
              "1          1  \n",
              "2          1  \n",
              "3          1  \n",
              "4          1  \n",
              "...      ...  \n",
              "5105       0  \n",
              "5106       0  \n",
              "5107       0  \n",
              "5108       0  \n",
              "5109       0  \n",
              "\n",
              "[5110 rows x 12 columns]"
            ],
            "text/html": [
              "\n",
              "  <div id=\"df-c0dcba31-a0de-4518-966e-dbf839eb6721\" class=\"colab-df-container\">\n",
              "    <div>\n",
              "<style scoped>\n",
              "    .dataframe tbody tr th:only-of-type {\n",
              "        vertical-align: middle;\n",
              "    }\n",
              "\n",
              "    .dataframe tbody tr th {\n",
              "        vertical-align: top;\n",
              "    }\n",
              "\n",
              "    .dataframe thead th {\n",
              "        text-align: right;\n",
              "    }\n",
              "</style>\n",
              "<table border=\"1\" class=\"dataframe\">\n",
              "  <thead>\n",
              "    <tr style=\"text-align: right;\">\n",
              "      <th></th>\n",
              "      <th>id</th>\n",
              "      <th>gender</th>\n",
              "      <th>age</th>\n",
              "      <th>hypertension</th>\n",
              "      <th>heart_disease</th>\n",
              "      <th>ever_married</th>\n",
              "      <th>work_type</th>\n",
              "      <th>Residence_type</th>\n",
              "      <th>avg_glucose_level</th>\n",
              "      <th>bmi</th>\n",
              "      <th>smoking_status</th>\n",
              "      <th>stroke</th>\n",
              "    </tr>\n",
              "  </thead>\n",
              "  <tbody>\n",
              "    <tr>\n",
              "      <th>0</th>\n",
              "      <td>9046</td>\n",
              "      <td>Male</td>\n",
              "      <td>67.0</td>\n",
              "      <td>0</td>\n",
              "      <td>1</td>\n",
              "      <td>Yes</td>\n",
              "      <td>Private</td>\n",
              "      <td>Urban</td>\n",
              "      <td>228.69</td>\n",
              "      <td>36.6</td>\n",
              "      <td>formerly smoked</td>\n",
              "      <td>1</td>\n",
              "    </tr>\n",
              "    <tr>\n",
              "      <th>1</th>\n",
              "      <td>51676</td>\n",
              "      <td>Female</td>\n",
              "      <td>61.0</td>\n",
              "      <td>0</td>\n",
              "      <td>0</td>\n",
              "      <td>Yes</td>\n",
              "      <td>Self-employed</td>\n",
              "      <td>Rural</td>\n",
              "      <td>202.21</td>\n",
              "      <td>NaN</td>\n",
              "      <td>never smoked</td>\n",
              "      <td>1</td>\n",
              "    </tr>\n",
              "    <tr>\n",
              "      <th>2</th>\n",
              "      <td>31112</td>\n",
              "      <td>Male</td>\n",
              "      <td>80.0</td>\n",
              "      <td>0</td>\n",
              "      <td>1</td>\n",
              "      <td>Yes</td>\n",
              "      <td>Private</td>\n",
              "      <td>Rural</td>\n",
              "      <td>105.92</td>\n",
              "      <td>32.5</td>\n",
              "      <td>never smoked</td>\n",
              "      <td>1</td>\n",
              "    </tr>\n",
              "    <tr>\n",
              "      <th>3</th>\n",
              "      <td>60182</td>\n",
              "      <td>Female</td>\n",
              "      <td>49.0</td>\n",
              "      <td>0</td>\n",
              "      <td>0</td>\n",
              "      <td>Yes</td>\n",
              "      <td>Private</td>\n",
              "      <td>Urban</td>\n",
              "      <td>171.23</td>\n",
              "      <td>34.4</td>\n",
              "      <td>smokes</td>\n",
              "      <td>1</td>\n",
              "    </tr>\n",
              "    <tr>\n",
              "      <th>4</th>\n",
              "      <td>1665</td>\n",
              "      <td>Female</td>\n",
              "      <td>79.0</td>\n",
              "      <td>1</td>\n",
              "      <td>0</td>\n",
              "      <td>Yes</td>\n",
              "      <td>Self-employed</td>\n",
              "      <td>Rural</td>\n",
              "      <td>174.12</td>\n",
              "      <td>24.0</td>\n",
              "      <td>never smoked</td>\n",
              "      <td>1</td>\n",
              "    </tr>\n",
              "    <tr>\n",
              "      <th>...</th>\n",
              "      <td>...</td>\n",
              "      <td>...</td>\n",
              "      <td>...</td>\n",
              "      <td>...</td>\n",
              "      <td>...</td>\n",
              "      <td>...</td>\n",
              "      <td>...</td>\n",
              "      <td>...</td>\n",
              "      <td>...</td>\n",
              "      <td>...</td>\n",
              "      <td>...</td>\n",
              "      <td>...</td>\n",
              "    </tr>\n",
              "    <tr>\n",
              "      <th>5105</th>\n",
              "      <td>18234</td>\n",
              "      <td>Female</td>\n",
              "      <td>80.0</td>\n",
              "      <td>1</td>\n",
              "      <td>0</td>\n",
              "      <td>Yes</td>\n",
              "      <td>Private</td>\n",
              "      <td>Urban</td>\n",
              "      <td>83.75</td>\n",
              "      <td>NaN</td>\n",
              "      <td>never smoked</td>\n",
              "      <td>0</td>\n",
              "    </tr>\n",
              "    <tr>\n",
              "      <th>5106</th>\n",
              "      <td>44873</td>\n",
              "      <td>Female</td>\n",
              "      <td>81.0</td>\n",
              "      <td>0</td>\n",
              "      <td>0</td>\n",
              "      <td>Yes</td>\n",
              "      <td>Self-employed</td>\n",
              "      <td>Urban</td>\n",
              "      <td>125.20</td>\n",
              "      <td>40.0</td>\n",
              "      <td>never smoked</td>\n",
              "      <td>0</td>\n",
              "    </tr>\n",
              "    <tr>\n",
              "      <th>5107</th>\n",
              "      <td>19723</td>\n",
              "      <td>Female</td>\n",
              "      <td>35.0</td>\n",
              "      <td>0</td>\n",
              "      <td>0</td>\n",
              "      <td>Yes</td>\n",
              "      <td>Self-employed</td>\n",
              "      <td>Rural</td>\n",
              "      <td>82.99</td>\n",
              "      <td>30.6</td>\n",
              "      <td>never smoked</td>\n",
              "      <td>0</td>\n",
              "    </tr>\n",
              "    <tr>\n",
              "      <th>5108</th>\n",
              "      <td>37544</td>\n",
              "      <td>Male</td>\n",
              "      <td>51.0</td>\n",
              "      <td>0</td>\n",
              "      <td>0</td>\n",
              "      <td>Yes</td>\n",
              "      <td>Private</td>\n",
              "      <td>Rural</td>\n",
              "      <td>166.29</td>\n",
              "      <td>25.6</td>\n",
              "      <td>formerly smoked</td>\n",
              "      <td>0</td>\n",
              "    </tr>\n",
              "    <tr>\n",
              "      <th>5109</th>\n",
              "      <td>44679</td>\n",
              "      <td>Female</td>\n",
              "      <td>44.0</td>\n",
              "      <td>0</td>\n",
              "      <td>0</td>\n",
              "      <td>Yes</td>\n",
              "      <td>Govt_job</td>\n",
              "      <td>Urban</td>\n",
              "      <td>85.28</td>\n",
              "      <td>26.2</td>\n",
              "      <td>Unknown</td>\n",
              "      <td>0</td>\n",
              "    </tr>\n",
              "  </tbody>\n",
              "</table>\n",
              "<p>5110 rows × 12 columns</p>\n",
              "</div>\n",
              "    <div class=\"colab-df-buttons\">\n",
              "\n",
              "  <div class=\"colab-df-container\">\n",
              "    <button class=\"colab-df-convert\" onclick=\"convertToInteractive('df-c0dcba31-a0de-4518-966e-dbf839eb6721')\"\n",
              "            title=\"Convert this dataframe to an interactive table.\"\n",
              "            style=\"display:none;\">\n",
              "\n",
              "  <svg xmlns=\"http://www.w3.org/2000/svg\" height=\"24px\" viewBox=\"0 -960 960 960\">\n",
              "    <path d=\"M120-120v-720h720v720H120Zm60-500h600v-160H180v160Zm220 220h160v-160H400v160Zm0 220h160v-160H400v160ZM180-400h160v-160H180v160Zm440 0h160v-160H620v160ZM180-180h160v-160H180v160Zm440 0h160v-160H620v160Z\"/>\n",
              "  </svg>\n",
              "    </button>\n",
              "\n",
              "  <style>\n",
              "    .colab-df-container {\n",
              "      display:flex;\n",
              "      gap: 12px;\n",
              "    }\n",
              "\n",
              "    .colab-df-convert {\n",
              "      background-color: #E8F0FE;\n",
              "      border: none;\n",
              "      border-radius: 50%;\n",
              "      cursor: pointer;\n",
              "      display: none;\n",
              "      fill: #1967D2;\n",
              "      height: 32px;\n",
              "      padding: 0 0 0 0;\n",
              "      width: 32px;\n",
              "    }\n",
              "\n",
              "    .colab-df-convert:hover {\n",
              "      background-color: #E2EBFA;\n",
              "      box-shadow: 0px 1px 2px rgba(60, 64, 67, 0.3), 0px 1px 3px 1px rgba(60, 64, 67, 0.15);\n",
              "      fill: #174EA6;\n",
              "    }\n",
              "\n",
              "    .colab-df-buttons div {\n",
              "      margin-bottom: 4px;\n",
              "    }\n",
              "\n",
              "    [theme=dark] .colab-df-convert {\n",
              "      background-color: #3B4455;\n",
              "      fill: #D2E3FC;\n",
              "    }\n",
              "\n",
              "    [theme=dark] .colab-df-convert:hover {\n",
              "      background-color: #434B5C;\n",
              "      box-shadow: 0px 1px 3px 1px rgba(0, 0, 0, 0.15);\n",
              "      filter: drop-shadow(0px 1px 2px rgba(0, 0, 0, 0.3));\n",
              "      fill: #FFFFFF;\n",
              "    }\n",
              "  </style>\n",
              "\n",
              "    <script>\n",
              "      const buttonEl =\n",
              "        document.querySelector('#df-c0dcba31-a0de-4518-966e-dbf839eb6721 button.colab-df-convert');\n",
              "      buttonEl.style.display =\n",
              "        google.colab.kernel.accessAllowed ? 'block' : 'none';\n",
              "\n",
              "      async function convertToInteractive(key) {\n",
              "        const element = document.querySelector('#df-c0dcba31-a0de-4518-966e-dbf839eb6721');\n",
              "        const dataTable =\n",
              "          await google.colab.kernel.invokeFunction('convertToInteractive',\n",
              "                                                    [key], {});\n",
              "        if (!dataTable) return;\n",
              "\n",
              "        const docLinkHtml = 'Like what you see? Visit the ' +\n",
              "          '<a target=\"_blank\" href=https://colab.research.google.com/notebooks/data_table.ipynb>data table notebook</a>'\n",
              "          + ' to learn more about interactive tables.';\n",
              "        element.innerHTML = '';\n",
              "        dataTable['output_type'] = 'display_data';\n",
              "        await google.colab.output.renderOutput(dataTable, element);\n",
              "        const docLink = document.createElement('div');\n",
              "        docLink.innerHTML = docLinkHtml;\n",
              "        element.appendChild(docLink);\n",
              "      }\n",
              "    </script>\n",
              "  </div>\n",
              "\n",
              "\n",
              "<div id=\"df-119319be-6597-41a5-b293-fb22e2b21169\">\n",
              "  <button class=\"colab-df-quickchart\" onclick=\"quickchart('df-119319be-6597-41a5-b293-fb22e2b21169')\"\n",
              "            title=\"Suggest charts\"\n",
              "            style=\"display:none;\">\n",
              "\n",
              "<svg xmlns=\"http://www.w3.org/2000/svg\" height=\"24px\"viewBox=\"0 0 24 24\"\n",
              "     width=\"24px\">\n",
              "    <g>\n",
              "        <path d=\"M19 3H5c-1.1 0-2 .9-2 2v14c0 1.1.9 2 2 2h14c1.1 0 2-.9 2-2V5c0-1.1-.9-2-2-2zM9 17H7v-7h2v7zm4 0h-2V7h2v10zm4 0h-2v-4h2v4z\"/>\n",
              "    </g>\n",
              "</svg>\n",
              "  </button>\n",
              "\n",
              "<style>\n",
              "  .colab-df-quickchart {\n",
              "      --bg-color: #E8F0FE;\n",
              "      --fill-color: #1967D2;\n",
              "      --hover-bg-color: #E2EBFA;\n",
              "      --hover-fill-color: #174EA6;\n",
              "      --disabled-fill-color: #AAA;\n",
              "      --disabled-bg-color: #DDD;\n",
              "  }\n",
              "\n",
              "  [theme=dark] .colab-df-quickchart {\n",
              "      --bg-color: #3B4455;\n",
              "      --fill-color: #D2E3FC;\n",
              "      --hover-bg-color: #434B5C;\n",
              "      --hover-fill-color: #FFFFFF;\n",
              "      --disabled-bg-color: #3B4455;\n",
              "      --disabled-fill-color: #666;\n",
              "  }\n",
              "\n",
              "  .colab-df-quickchart {\n",
              "    background-color: var(--bg-color);\n",
              "    border: none;\n",
              "    border-radius: 50%;\n",
              "    cursor: pointer;\n",
              "    display: none;\n",
              "    fill: var(--fill-color);\n",
              "    height: 32px;\n",
              "    padding: 0;\n",
              "    width: 32px;\n",
              "  }\n",
              "\n",
              "  .colab-df-quickchart:hover {\n",
              "    background-color: var(--hover-bg-color);\n",
              "    box-shadow: 0 1px 2px rgba(60, 64, 67, 0.3), 0 1px 3px 1px rgba(60, 64, 67, 0.15);\n",
              "    fill: var(--button-hover-fill-color);\n",
              "  }\n",
              "\n",
              "  .colab-df-quickchart-complete:disabled,\n",
              "  .colab-df-quickchart-complete:disabled:hover {\n",
              "    background-color: var(--disabled-bg-color);\n",
              "    fill: var(--disabled-fill-color);\n",
              "    box-shadow: none;\n",
              "  }\n",
              "\n",
              "  .colab-df-spinner {\n",
              "    border: 2px solid var(--fill-color);\n",
              "    border-color: transparent;\n",
              "    border-bottom-color: var(--fill-color);\n",
              "    animation:\n",
              "      spin 1s steps(1) infinite;\n",
              "  }\n",
              "\n",
              "  @keyframes spin {\n",
              "    0% {\n",
              "      border-color: transparent;\n",
              "      border-bottom-color: var(--fill-color);\n",
              "      border-left-color: var(--fill-color);\n",
              "    }\n",
              "    20% {\n",
              "      border-color: transparent;\n",
              "      border-left-color: var(--fill-color);\n",
              "      border-top-color: var(--fill-color);\n",
              "    }\n",
              "    30% {\n",
              "      border-color: transparent;\n",
              "      border-left-color: var(--fill-color);\n",
              "      border-top-color: var(--fill-color);\n",
              "      border-right-color: var(--fill-color);\n",
              "    }\n",
              "    40% {\n",
              "      border-color: transparent;\n",
              "      border-right-color: var(--fill-color);\n",
              "      border-top-color: var(--fill-color);\n",
              "    }\n",
              "    60% {\n",
              "      border-color: transparent;\n",
              "      border-right-color: var(--fill-color);\n",
              "    }\n",
              "    80% {\n",
              "      border-color: transparent;\n",
              "      border-right-color: var(--fill-color);\n",
              "      border-bottom-color: var(--fill-color);\n",
              "    }\n",
              "    90% {\n",
              "      border-color: transparent;\n",
              "      border-bottom-color: var(--fill-color);\n",
              "    }\n",
              "  }\n",
              "</style>\n",
              "\n",
              "  <script>\n",
              "    async function quickchart(key) {\n",
              "      const quickchartButtonEl =\n",
              "        document.querySelector('#' + key + ' button');\n",
              "      quickchartButtonEl.disabled = true;  // To prevent multiple clicks.\n",
              "      quickchartButtonEl.classList.add('colab-df-spinner');\n",
              "      try {\n",
              "        const charts = await google.colab.kernel.invokeFunction(\n",
              "            'suggestCharts', [key], {});\n",
              "      } catch (error) {\n",
              "        console.error('Error during call to suggestCharts:', error);\n",
              "      }\n",
              "      quickchartButtonEl.classList.remove('colab-df-spinner');\n",
              "      quickchartButtonEl.classList.add('colab-df-quickchart-complete');\n",
              "    }\n",
              "    (() => {\n",
              "      let quickchartButtonEl =\n",
              "        document.querySelector('#df-119319be-6597-41a5-b293-fb22e2b21169 button');\n",
              "      quickchartButtonEl.style.display =\n",
              "        google.colab.kernel.accessAllowed ? 'block' : 'none';\n",
              "    })();\n",
              "  </script>\n",
              "</div>\n",
              "\n",
              "  <div id=\"id_4a83dd23-580f-428d-a919-f1ef7afd450c\">\n",
              "    <style>\n",
              "      .colab-df-generate {\n",
              "        background-color: #E8F0FE;\n",
              "        border: none;\n",
              "        border-radius: 50%;\n",
              "        cursor: pointer;\n",
              "        display: none;\n",
              "        fill: #1967D2;\n",
              "        height: 32px;\n",
              "        padding: 0 0 0 0;\n",
              "        width: 32px;\n",
              "      }\n",
              "\n",
              "      .colab-df-generate:hover {\n",
              "        background-color: #E2EBFA;\n",
              "        box-shadow: 0px 1px 2px rgba(60, 64, 67, 0.3), 0px 1px 3px 1px rgba(60, 64, 67, 0.15);\n",
              "        fill: #174EA6;\n",
              "      }\n",
              "\n",
              "      [theme=dark] .colab-df-generate {\n",
              "        background-color: #3B4455;\n",
              "        fill: #D2E3FC;\n",
              "      }\n",
              "\n",
              "      [theme=dark] .colab-df-generate:hover {\n",
              "        background-color: #434B5C;\n",
              "        box-shadow: 0px 1px 3px 1px rgba(0, 0, 0, 0.15);\n",
              "        filter: drop-shadow(0px 1px 2px rgba(0, 0, 0, 0.3));\n",
              "        fill: #FFFFFF;\n",
              "      }\n",
              "    </style>\n",
              "    <button class=\"colab-df-generate\" onclick=\"generateWithVariable('df')\"\n",
              "            title=\"Generate code using this dataframe.\"\n",
              "            style=\"display:none;\">\n",
              "\n",
              "  <svg xmlns=\"http://www.w3.org/2000/svg\" height=\"24px\"viewBox=\"0 0 24 24\"\n",
              "       width=\"24px\">\n",
              "    <path d=\"M7,19H8.4L18.45,9,17,7.55,7,17.6ZM5,21V16.75L18.45,3.32a2,2,0,0,1,2.83,0l1.4,1.43a1.91,1.91,0,0,1,.58,1.4,1.91,1.91,0,0,1-.58,1.4L9.25,21ZM18.45,9,17,7.55Zm-12,3A5.31,5.31,0,0,0,4.9,8.1,5.31,5.31,0,0,0,1,6.5,5.31,5.31,0,0,0,4.9,4.9,5.31,5.31,0,0,0,6.5,1,5.31,5.31,0,0,0,8.1,4.9,5.31,5.31,0,0,0,12,6.5,5.46,5.46,0,0,0,6.5,12Z\"/>\n",
              "  </svg>\n",
              "    </button>\n",
              "    <script>\n",
              "      (() => {\n",
              "      const buttonEl =\n",
              "        document.querySelector('#id_4a83dd23-580f-428d-a919-f1ef7afd450c button.colab-df-generate');\n",
              "      buttonEl.style.display =\n",
              "        google.colab.kernel.accessAllowed ? 'block' : 'none';\n",
              "\n",
              "      buttonEl.onclick = () => {\n",
              "        google.colab.notebook.generateWithVariable('df');\n",
              "      }\n",
              "      })();\n",
              "    </script>\n",
              "  </div>\n",
              "\n",
              "    </div>\n",
              "  </div>\n"
            ],
            "application/vnd.google.colaboratory.intrinsic+json": {
              "type": "dataframe",
              "variable_name": "df",
              "summary": "{\n  \"name\": \"df\",\n  \"rows\": 5110,\n  \"fields\": [\n    {\n      \"column\": \"id\",\n      \"properties\": {\n        \"dtype\": \"number\",\n        \"std\": 21161,\n        \"min\": 67,\n        \"max\": 72940,\n        \"num_unique_values\": 5110,\n        \"samples\": [\n          40041,\n          55244,\n          70992\n        ],\n        \"semantic_type\": \"\",\n        \"description\": \"\"\n      }\n    },\n    {\n      \"column\": \"gender\",\n      \"properties\": {\n        \"dtype\": \"category\",\n        \"num_unique_values\": 3,\n        \"samples\": [\n          \"Male\",\n          \"Female\",\n          \"Other\"\n        ],\n        \"semantic_type\": \"\",\n        \"description\": \"\"\n      }\n    },\n    {\n      \"column\": \"age\",\n      \"properties\": {\n        \"dtype\": \"number\",\n        \"std\": 22.61264672311349,\n        \"min\": 0.08,\n        \"max\": 82.0,\n        \"num_unique_values\": 104,\n        \"samples\": [\n          45.0,\n          24.0,\n          33.0\n        ],\n        \"semantic_type\": \"\",\n        \"description\": \"\"\n      }\n    },\n    {\n      \"column\": \"hypertension\",\n      \"properties\": {\n        \"dtype\": \"number\",\n        \"std\": 0,\n        \"min\": 0,\n        \"max\": 1,\n        \"num_unique_values\": 2,\n        \"samples\": [\n          1,\n          0\n        ],\n        \"semantic_type\": \"\",\n        \"description\": \"\"\n      }\n    },\n    {\n      \"column\": \"heart_disease\",\n      \"properties\": {\n        \"dtype\": \"number\",\n        \"std\": 0,\n        \"min\": 0,\n        \"max\": 1,\n        \"num_unique_values\": 2,\n        \"samples\": [\n          0,\n          1\n        ],\n        \"semantic_type\": \"\",\n        \"description\": \"\"\n      }\n    },\n    {\n      \"column\": \"ever_married\",\n      \"properties\": {\n        \"dtype\": \"category\",\n        \"num_unique_values\": 2,\n        \"samples\": [\n          \"No\",\n          \"Yes\"\n        ],\n        \"semantic_type\": \"\",\n        \"description\": \"\"\n      }\n    },\n    {\n      \"column\": \"work_type\",\n      \"properties\": {\n        \"dtype\": \"category\",\n        \"num_unique_values\": 5,\n        \"samples\": [\n          \"Self-employed\",\n          \"Never_worked\"\n        ],\n        \"semantic_type\": \"\",\n        \"description\": \"\"\n      }\n    },\n    {\n      \"column\": \"Residence_type\",\n      \"properties\": {\n        \"dtype\": \"category\",\n        \"num_unique_values\": 2,\n        \"samples\": [\n          \"Rural\",\n          \"Urban\"\n        ],\n        \"semantic_type\": \"\",\n        \"description\": \"\"\n      }\n    },\n    {\n      \"column\": \"avg_glucose_level\",\n      \"properties\": {\n        \"dtype\": \"number\",\n        \"std\": 45.28356015058198,\n        \"min\": 55.12,\n        \"max\": 271.74,\n        \"num_unique_values\": 3979,\n        \"samples\": [\n          178.29,\n          156.69\n        ],\n        \"semantic_type\": \"\",\n        \"description\": \"\"\n      }\n    },\n    {\n      \"column\": \"bmi\",\n      \"properties\": {\n        \"dtype\": \"number\",\n        \"std\": 7.854066729680164,\n        \"min\": 10.3,\n        \"max\": 97.6,\n        \"num_unique_values\": 418,\n        \"samples\": [\n          49.5,\n          18.5\n        ],\n        \"semantic_type\": \"\",\n        \"description\": \"\"\n      }\n    },\n    {\n      \"column\": \"smoking_status\",\n      \"properties\": {\n        \"dtype\": \"category\",\n        \"num_unique_values\": 4,\n        \"samples\": [\n          \"never smoked\",\n          \"Unknown\"\n        ],\n        \"semantic_type\": \"\",\n        \"description\": \"\"\n      }\n    },\n    {\n      \"column\": \"stroke\",\n      \"properties\": {\n        \"dtype\": \"number\",\n        \"std\": 0,\n        \"min\": 0,\n        \"max\": 1,\n        \"num_unique_values\": 2,\n        \"samples\": [\n          0,\n          1\n        ],\n        \"semantic_type\": \"\",\n        \"description\": \"\"\n      }\n    }\n  ]\n}"
            }
          },
          "metadata": {},
          "execution_count": 4
        }
      ]
    },
    {
      "cell_type": "code",
      "source": [
        "df = df[(df['gender'] != 'Other')]"
      ],
      "metadata": {
        "id": "n-1cJ2Xznxt3"
      },
      "execution_count": null,
      "outputs": []
    },
    {
      "cell_type": "markdown",
      "metadata": {
        "id": "vmz0PCrW6LRu"
      },
      "source": [
        "We will drop every patient younger than 38. Our model is for patients 38 and older.\n",
        "\n",
        "The reason is that the model will have an easier time modeling just for older people and not for people of all ages. Since only 3 out of 2026 patients younger than 38 had a stroke, there is not much to learn for this group of young people."
      ]
    },
    {
      "cell_type": "code",
      "metadata": {
        "id": "Lv_kcH2o63jQ"
      },
      "source": [
        "df = df[(df['age'] >= 38)]"
      ],
      "execution_count": null,
      "outputs": []
    },
    {
      "cell_type": "code",
      "metadata": {
        "id": "19eWJrYpIHi2"
      },
      "source": [
        "df['ever_married'].replace(['Yes','No'],[1,0],inplace=True)"
      ],
      "execution_count": null,
      "outputs": []
    },
    {
      "cell_type": "code",
      "metadata": {
        "colab": {
          "base_uri": "https://localhost:8080/"
        },
        "id": "cZebbDZb8GWB",
        "outputId": "05ffd57b-3004-48d7-df12-a6dd7bec751a"
      },
      "source": [
        "\n",
        "df['ever_married'].unique()"
      ],
      "execution_count": null,
      "outputs": [
        {
          "output_type": "execute_result",
          "data": {
            "text/plain": [
              "array([1, 0])"
            ]
          },
          "metadata": {},
          "execution_count": 8
        }
      ]
    },
    {
      "cell_type": "code",
      "metadata": {
        "id": "fSqG3tLUI0Kf"
      },
      "source": [
        "df = df.drop('work_type', axis=1)"
      ],
      "execution_count": null,
      "outputs": []
    },
    {
      "cell_type": "markdown",
      "metadata": {
        "id": "b1xsLOtm8cy_"
      },
      "source": [
        "Check avg_glucose_level *column*"
      ]
    },
    {
      "cell_type": "code",
      "source": [
        "df['avg_glucose_level'].unique()"
      ],
      "metadata": {
        "id": "o23KuDCgqVQM",
        "colab": {
          "base_uri": "https://localhost:8080/"
        },
        "outputId": "d772dd8e-9d05-4e5c-eb42-54f729dc455f"
      },
      "execution_count": null,
      "outputs": [
        {
          "output_type": "execute_result",
          "data": {
            "text/plain": [
              "array([228.69, 202.21, 105.92, ..., 125.2 , 166.29,  85.28])"
            ]
          },
          "metadata": {},
          "execution_count": 10
        }
      ]
    },
    {
      "cell_type": "code",
      "metadata": {
        "colab": {
          "base_uri": "https://localhost:8080/"
        },
        "id": "i81qrzAEQNNL",
        "outputId": "0b8438c2-d019-452a-e0ba-2c25b8764a20"
      },
      "source": [
        "df['avg_glucose_level'].unique().shape"
      ],
      "execution_count": null,
      "outputs": [
        {
          "output_type": "execute_result",
          "data": {
            "text/plain": [
              "(2689,)"
            ]
          },
          "metadata": {},
          "execution_count": 11
        }
      ]
    },
    {
      "cell_type": "code",
      "source": [
        "(df['avg_glucose_level']>50).sum()"
      ],
      "metadata": {
        "colab": {
          "base_uri": "https://localhost:8080/"
        },
        "id": "rZr-w6CkrDmB",
        "outputId": "a6567239-3782-4067-c9ef-e24acf6a1ee2"
      },
      "execution_count": null,
      "outputs": [
        {
          "output_type": "execute_result",
          "data": {
            "text/plain": [
              "3083"
            ]
          },
          "metadata": {},
          "execution_count": 12
        }
      ]
    },
    {
      "cell_type": "code",
      "source": [
        "df.shape"
      ],
      "metadata": {
        "colab": {
          "base_uri": "https://localhost:8080/"
        },
        "id": "BTy2sgSDascM",
        "outputId": "320a5f00-7bf5-44f8-e156-a0b347a876df"
      },
      "execution_count": null,
      "outputs": [
        {
          "output_type": "execute_result",
          "data": {
            "text/plain": [
              "(3083, 11)"
            ]
          },
          "metadata": {},
          "execution_count": 13
        }
      ]
    },
    {
      "cell_type": "markdown",
      "metadata": {
        "id": "FWUX59GO8vPT"
      },
      "source": [
        "Check how many data in bmi are missing"
      ]
    },
    {
      "cell_type": "code",
      "metadata": {
        "colab": {
          "base_uri": "https://localhost:8080/"
        },
        "id": "kd0RChGzoKMA",
        "outputId": "4e3f7f44-5f90-4442-cd74-acd021d51e1e"
      },
      "source": [
        "(df['bmi'].isnull()).sum()"
      ],
      "execution_count": null,
      "outputs": [
        {
          "output_type": "execute_result",
          "data": {
            "text/plain": [
              "149"
            ]
          },
          "metadata": {},
          "execution_count": 14
        }
      ]
    },
    {
      "cell_type": "code",
      "metadata": {
        "id": "csprk182oZsj"
      },
      "source": [
        "df = df[-df['bmi'].isnull()]"
      ],
      "execution_count": null,
      "outputs": []
    },
    {
      "cell_type": "markdown",
      "metadata": {
        "id": "g7Yhn7rU9bD3"
      },
      "source": [
        "Check smoking status column"
      ]
    },
    {
      "cell_type": "code",
      "source": [
        "df.shape"
      ],
      "metadata": {
        "colab": {
          "base_uri": "https://localhost:8080/"
        },
        "id": "1fC7RRX3s9rA",
        "outputId": "fb406ab7-f7d1-4732-d6a8-2842e9913fdd"
      },
      "execution_count": null,
      "outputs": [
        {
          "output_type": "execute_result",
          "data": {
            "text/plain": [
              "(2934, 11)"
            ]
          },
          "metadata": {},
          "execution_count": 16
        }
      ]
    },
    {
      "cell_type": "markdown",
      "metadata": {
        "id": "YyOEl2ih9gQ_"
      },
      "source": [
        "Check stroke column"
      ]
    },
    {
      "cell_type": "code",
      "metadata": {
        "colab": {
          "base_uri": "https://localhost:8080/"
        },
        "id": "rk1Ha1XepSim",
        "outputId": "1c3e7799-495c-45ef-fbc4-2582b4a528ea"
      },
      "source": [
        "df['stroke'].unique()"
      ],
      "execution_count": null,
      "outputs": [
        {
          "output_type": "execute_result",
          "data": {
            "text/plain": [
              "array([1, 0])"
            ]
          },
          "metadata": {},
          "execution_count": 17
        }
      ]
    },
    {
      "cell_type": "code",
      "source": [
        "df['stroke'].sum()"
      ],
      "metadata": {
        "colab": {
          "base_uri": "https://localhost:8080/"
        },
        "id": "ZS9mAs86trL7",
        "outputId": "d953514c-260d-4f79-ca3d-1a74136ebf90"
      },
      "execution_count": null,
      "outputs": [
        {
          "output_type": "execute_result",
          "data": {
            "text/plain": [
              "207"
            ]
          },
          "metadata": {},
          "execution_count": 18
        }
      ]
    },
    {
      "cell_type": "markdown",
      "metadata": {
        "id": "9LXtvA6k9mGL"
      },
      "source": [
        "Check the number of patients we have now"
      ]
    },
    {
      "cell_type": "code",
      "metadata": {
        "id": "9uJT53wHR63G"
      },
      "source": [
        "df = df.drop('id', axis=1)"
      ],
      "execution_count": null,
      "outputs": []
    },
    {
      "cell_type": "code",
      "metadata": {
        "id": "QsmJsn73zf63"
      },
      "source": [
        "df['gender'].replace(['Male','Female'],[0,1],inplace=True)"
      ],
      "execution_count": null,
      "outputs": []
    },
    {
      "cell_type": "code",
      "metadata": {
        "colab": {
          "base_uri": "https://localhost:8080/"
        },
        "id": "z2Nqc_ZM2afw",
        "outputId": "e8078cfe-70ed-4d58-e3fc-74550604fff0"
      },
      "source": [
        "df['smoking_status'].unique()"
      ],
      "execution_count": null,
      "outputs": [
        {
          "output_type": "execute_result",
          "data": {
            "text/plain": [
              "array(['formerly smoked', 'never smoked', 'smokes', 'Unknown'],\n",
              "      dtype=object)"
            ]
          },
          "metadata": {},
          "execution_count": 21
        }
      ]
    },
    {
      "cell_type": "markdown",
      "metadata": {
        "id": "3HLvsXtb-uzu"
      },
      "source": [
        "One hot encoding for smoking typew"
      ]
    },
    {
      "cell_type": "code",
      "metadata": {
        "id": "kraqmLshShWh"
      },
      "source": [
        "df['formerly_smoked'] = df['smoking_status'].replace(['formerly smoked', 'never smoked', 'smokes', 'Unknown'],[1,0,0,0])"
      ],
      "execution_count": null,
      "outputs": []
    },
    {
      "cell_type": "code",
      "metadata": {
        "colab": {
          "base_uri": "https://localhost:8080/",
          "height": 206
        },
        "id": "P5B4k5NBSjvW",
        "outputId": "c4e1a88d-96fd-490d-a7b3-2f42d2b19139"
      },
      "source": [
        "df.head()"
      ],
      "execution_count": null,
      "outputs": [
        {
          "output_type": "execute_result",
          "data": {
            "text/plain": [
              "   gender   age  hypertension  heart_disease  ever_married Residence_type  \\\n",
              "0       0  67.0             0              1             1          Urban   \n",
              "2       0  80.0             0              1             1          Rural   \n",
              "3       1  49.0             0              0             1          Urban   \n",
              "4       1  79.0             1              0             1          Rural   \n",
              "5       0  81.0             0              0             1          Urban   \n",
              "\n",
              "   avg_glucose_level   bmi   smoking_status  stroke  formerly_smoked  \n",
              "0             228.69  36.6  formerly smoked       1                1  \n",
              "2             105.92  32.5     never smoked       1                0  \n",
              "3             171.23  34.4           smokes       1                0  \n",
              "4             174.12  24.0     never smoked       1                0  \n",
              "5             186.21  29.0  formerly smoked       1                1  "
            ],
            "text/html": [
              "\n",
              "  <div id=\"df-034365cc-df27-4deb-bad7-ba0bd46207bd\" class=\"colab-df-container\">\n",
              "    <div>\n",
              "<style scoped>\n",
              "    .dataframe tbody tr th:only-of-type {\n",
              "        vertical-align: middle;\n",
              "    }\n",
              "\n",
              "    .dataframe tbody tr th {\n",
              "        vertical-align: top;\n",
              "    }\n",
              "\n",
              "    .dataframe thead th {\n",
              "        text-align: right;\n",
              "    }\n",
              "</style>\n",
              "<table border=\"1\" class=\"dataframe\">\n",
              "  <thead>\n",
              "    <tr style=\"text-align: right;\">\n",
              "      <th></th>\n",
              "      <th>gender</th>\n",
              "      <th>age</th>\n",
              "      <th>hypertension</th>\n",
              "      <th>heart_disease</th>\n",
              "      <th>ever_married</th>\n",
              "      <th>Residence_type</th>\n",
              "      <th>avg_glucose_level</th>\n",
              "      <th>bmi</th>\n",
              "      <th>smoking_status</th>\n",
              "      <th>stroke</th>\n",
              "      <th>formerly_smoked</th>\n",
              "    </tr>\n",
              "  </thead>\n",
              "  <tbody>\n",
              "    <tr>\n",
              "      <th>0</th>\n",
              "      <td>0</td>\n",
              "      <td>67.0</td>\n",
              "      <td>0</td>\n",
              "      <td>1</td>\n",
              "      <td>1</td>\n",
              "      <td>Urban</td>\n",
              "      <td>228.69</td>\n",
              "      <td>36.6</td>\n",
              "      <td>formerly smoked</td>\n",
              "      <td>1</td>\n",
              "      <td>1</td>\n",
              "    </tr>\n",
              "    <tr>\n",
              "      <th>2</th>\n",
              "      <td>0</td>\n",
              "      <td>80.0</td>\n",
              "      <td>0</td>\n",
              "      <td>1</td>\n",
              "      <td>1</td>\n",
              "      <td>Rural</td>\n",
              "      <td>105.92</td>\n",
              "      <td>32.5</td>\n",
              "      <td>never smoked</td>\n",
              "      <td>1</td>\n",
              "      <td>0</td>\n",
              "    </tr>\n",
              "    <tr>\n",
              "      <th>3</th>\n",
              "      <td>1</td>\n",
              "      <td>49.0</td>\n",
              "      <td>0</td>\n",
              "      <td>0</td>\n",
              "      <td>1</td>\n",
              "      <td>Urban</td>\n",
              "      <td>171.23</td>\n",
              "      <td>34.4</td>\n",
              "      <td>smokes</td>\n",
              "      <td>1</td>\n",
              "      <td>0</td>\n",
              "    </tr>\n",
              "    <tr>\n",
              "      <th>4</th>\n",
              "      <td>1</td>\n",
              "      <td>79.0</td>\n",
              "      <td>1</td>\n",
              "      <td>0</td>\n",
              "      <td>1</td>\n",
              "      <td>Rural</td>\n",
              "      <td>174.12</td>\n",
              "      <td>24.0</td>\n",
              "      <td>never smoked</td>\n",
              "      <td>1</td>\n",
              "      <td>0</td>\n",
              "    </tr>\n",
              "    <tr>\n",
              "      <th>5</th>\n",
              "      <td>0</td>\n",
              "      <td>81.0</td>\n",
              "      <td>0</td>\n",
              "      <td>0</td>\n",
              "      <td>1</td>\n",
              "      <td>Urban</td>\n",
              "      <td>186.21</td>\n",
              "      <td>29.0</td>\n",
              "      <td>formerly smoked</td>\n",
              "      <td>1</td>\n",
              "      <td>1</td>\n",
              "    </tr>\n",
              "  </tbody>\n",
              "</table>\n",
              "</div>\n",
              "    <div class=\"colab-df-buttons\">\n",
              "\n",
              "  <div class=\"colab-df-container\">\n",
              "    <button class=\"colab-df-convert\" onclick=\"convertToInteractive('df-034365cc-df27-4deb-bad7-ba0bd46207bd')\"\n",
              "            title=\"Convert this dataframe to an interactive table.\"\n",
              "            style=\"display:none;\">\n",
              "\n",
              "  <svg xmlns=\"http://www.w3.org/2000/svg\" height=\"24px\" viewBox=\"0 -960 960 960\">\n",
              "    <path d=\"M120-120v-720h720v720H120Zm60-500h600v-160H180v160Zm220 220h160v-160H400v160Zm0 220h160v-160H400v160ZM180-400h160v-160H180v160Zm440 0h160v-160H620v160ZM180-180h160v-160H180v160Zm440 0h160v-160H620v160Z\"/>\n",
              "  </svg>\n",
              "    </button>\n",
              "\n",
              "  <style>\n",
              "    .colab-df-container {\n",
              "      display:flex;\n",
              "      gap: 12px;\n",
              "    }\n",
              "\n",
              "    .colab-df-convert {\n",
              "      background-color: #E8F0FE;\n",
              "      border: none;\n",
              "      border-radius: 50%;\n",
              "      cursor: pointer;\n",
              "      display: none;\n",
              "      fill: #1967D2;\n",
              "      height: 32px;\n",
              "      padding: 0 0 0 0;\n",
              "      width: 32px;\n",
              "    }\n",
              "\n",
              "    .colab-df-convert:hover {\n",
              "      background-color: #E2EBFA;\n",
              "      box-shadow: 0px 1px 2px rgba(60, 64, 67, 0.3), 0px 1px 3px 1px rgba(60, 64, 67, 0.15);\n",
              "      fill: #174EA6;\n",
              "    }\n",
              "\n",
              "    .colab-df-buttons div {\n",
              "      margin-bottom: 4px;\n",
              "    }\n",
              "\n",
              "    [theme=dark] .colab-df-convert {\n",
              "      background-color: #3B4455;\n",
              "      fill: #D2E3FC;\n",
              "    }\n",
              "\n",
              "    [theme=dark] .colab-df-convert:hover {\n",
              "      background-color: #434B5C;\n",
              "      box-shadow: 0px 1px 3px 1px rgba(0, 0, 0, 0.15);\n",
              "      filter: drop-shadow(0px 1px 2px rgba(0, 0, 0, 0.3));\n",
              "      fill: #FFFFFF;\n",
              "    }\n",
              "  </style>\n",
              "\n",
              "    <script>\n",
              "      const buttonEl =\n",
              "        document.querySelector('#df-034365cc-df27-4deb-bad7-ba0bd46207bd button.colab-df-convert');\n",
              "      buttonEl.style.display =\n",
              "        google.colab.kernel.accessAllowed ? 'block' : 'none';\n",
              "\n",
              "      async function convertToInteractive(key) {\n",
              "        const element = document.querySelector('#df-034365cc-df27-4deb-bad7-ba0bd46207bd');\n",
              "        const dataTable =\n",
              "          await google.colab.kernel.invokeFunction('convertToInteractive',\n",
              "                                                    [key], {});\n",
              "        if (!dataTable) return;\n",
              "\n",
              "        const docLinkHtml = 'Like what you see? Visit the ' +\n",
              "          '<a target=\"_blank\" href=https://colab.research.google.com/notebooks/data_table.ipynb>data table notebook</a>'\n",
              "          + ' to learn more about interactive tables.';\n",
              "        element.innerHTML = '';\n",
              "        dataTable['output_type'] = 'display_data';\n",
              "        await google.colab.output.renderOutput(dataTable, element);\n",
              "        const docLink = document.createElement('div');\n",
              "        docLink.innerHTML = docLinkHtml;\n",
              "        element.appendChild(docLink);\n",
              "      }\n",
              "    </script>\n",
              "  </div>\n",
              "\n",
              "\n",
              "<div id=\"df-930ab347-c4bb-4e4a-96b7-32912448a717\">\n",
              "  <button class=\"colab-df-quickchart\" onclick=\"quickchart('df-930ab347-c4bb-4e4a-96b7-32912448a717')\"\n",
              "            title=\"Suggest charts\"\n",
              "            style=\"display:none;\">\n",
              "\n",
              "<svg xmlns=\"http://www.w3.org/2000/svg\" height=\"24px\"viewBox=\"0 0 24 24\"\n",
              "     width=\"24px\">\n",
              "    <g>\n",
              "        <path d=\"M19 3H5c-1.1 0-2 .9-2 2v14c0 1.1.9 2 2 2h14c1.1 0 2-.9 2-2V5c0-1.1-.9-2-2-2zM9 17H7v-7h2v7zm4 0h-2V7h2v10zm4 0h-2v-4h2v4z\"/>\n",
              "    </g>\n",
              "</svg>\n",
              "  </button>\n",
              "\n",
              "<style>\n",
              "  .colab-df-quickchart {\n",
              "      --bg-color: #E8F0FE;\n",
              "      --fill-color: #1967D2;\n",
              "      --hover-bg-color: #E2EBFA;\n",
              "      --hover-fill-color: #174EA6;\n",
              "      --disabled-fill-color: #AAA;\n",
              "      --disabled-bg-color: #DDD;\n",
              "  }\n",
              "\n",
              "  [theme=dark] .colab-df-quickchart {\n",
              "      --bg-color: #3B4455;\n",
              "      --fill-color: #D2E3FC;\n",
              "      --hover-bg-color: #434B5C;\n",
              "      --hover-fill-color: #FFFFFF;\n",
              "      --disabled-bg-color: #3B4455;\n",
              "      --disabled-fill-color: #666;\n",
              "  }\n",
              "\n",
              "  .colab-df-quickchart {\n",
              "    background-color: var(--bg-color);\n",
              "    border: none;\n",
              "    border-radius: 50%;\n",
              "    cursor: pointer;\n",
              "    display: none;\n",
              "    fill: var(--fill-color);\n",
              "    height: 32px;\n",
              "    padding: 0;\n",
              "    width: 32px;\n",
              "  }\n",
              "\n",
              "  .colab-df-quickchart:hover {\n",
              "    background-color: var(--hover-bg-color);\n",
              "    box-shadow: 0 1px 2px rgba(60, 64, 67, 0.3), 0 1px 3px 1px rgba(60, 64, 67, 0.15);\n",
              "    fill: var(--button-hover-fill-color);\n",
              "  }\n",
              "\n",
              "  .colab-df-quickchart-complete:disabled,\n",
              "  .colab-df-quickchart-complete:disabled:hover {\n",
              "    background-color: var(--disabled-bg-color);\n",
              "    fill: var(--disabled-fill-color);\n",
              "    box-shadow: none;\n",
              "  }\n",
              "\n",
              "  .colab-df-spinner {\n",
              "    border: 2px solid var(--fill-color);\n",
              "    border-color: transparent;\n",
              "    border-bottom-color: var(--fill-color);\n",
              "    animation:\n",
              "      spin 1s steps(1) infinite;\n",
              "  }\n",
              "\n",
              "  @keyframes spin {\n",
              "    0% {\n",
              "      border-color: transparent;\n",
              "      border-bottom-color: var(--fill-color);\n",
              "      border-left-color: var(--fill-color);\n",
              "    }\n",
              "    20% {\n",
              "      border-color: transparent;\n",
              "      border-left-color: var(--fill-color);\n",
              "      border-top-color: var(--fill-color);\n",
              "    }\n",
              "    30% {\n",
              "      border-color: transparent;\n",
              "      border-left-color: var(--fill-color);\n",
              "      border-top-color: var(--fill-color);\n",
              "      border-right-color: var(--fill-color);\n",
              "    }\n",
              "    40% {\n",
              "      border-color: transparent;\n",
              "      border-right-color: var(--fill-color);\n",
              "      border-top-color: var(--fill-color);\n",
              "    }\n",
              "    60% {\n",
              "      border-color: transparent;\n",
              "      border-right-color: var(--fill-color);\n",
              "    }\n",
              "    80% {\n",
              "      border-color: transparent;\n",
              "      border-right-color: var(--fill-color);\n",
              "      border-bottom-color: var(--fill-color);\n",
              "    }\n",
              "    90% {\n",
              "      border-color: transparent;\n",
              "      border-bottom-color: var(--fill-color);\n",
              "    }\n",
              "  }\n",
              "</style>\n",
              "\n",
              "  <script>\n",
              "    async function quickchart(key) {\n",
              "      const quickchartButtonEl =\n",
              "        document.querySelector('#' + key + ' button');\n",
              "      quickchartButtonEl.disabled = true;  // To prevent multiple clicks.\n",
              "      quickchartButtonEl.classList.add('colab-df-spinner');\n",
              "      try {\n",
              "        const charts = await google.colab.kernel.invokeFunction(\n",
              "            'suggestCharts', [key], {});\n",
              "      } catch (error) {\n",
              "        console.error('Error during call to suggestCharts:', error);\n",
              "      }\n",
              "      quickchartButtonEl.classList.remove('colab-df-spinner');\n",
              "      quickchartButtonEl.classList.add('colab-df-quickchart-complete');\n",
              "    }\n",
              "    (() => {\n",
              "      let quickchartButtonEl =\n",
              "        document.querySelector('#df-930ab347-c4bb-4e4a-96b7-32912448a717 button');\n",
              "      quickchartButtonEl.style.display =\n",
              "        google.colab.kernel.accessAllowed ? 'block' : 'none';\n",
              "    })();\n",
              "  </script>\n",
              "</div>\n",
              "\n",
              "    </div>\n",
              "  </div>\n"
            ],
            "application/vnd.google.colaboratory.intrinsic+json": {
              "type": "dataframe",
              "variable_name": "df",
              "summary": "{\n  \"name\": \"df\",\n  \"rows\": 2934,\n  \"fields\": [\n    {\n      \"column\": \"gender\",\n      \"properties\": {\n        \"dtype\": \"number\",\n        \"std\": 0,\n        \"min\": 0,\n        \"max\": 1,\n        \"num_unique_values\": 2,\n        \"samples\": [\n          1,\n          0\n        ],\n        \"semantic_type\": \"\",\n        \"description\": \"\"\n      }\n    },\n    {\n      \"column\": \"age\",\n      \"properties\": {\n        \"dtype\": \"number\",\n        \"std\": 12.793424837106857,\n        \"min\": 38.0,\n        \"max\": 82.0,\n        \"num_unique_values\": 45,\n        \"samples\": [\n          46.0,\n          77.0\n        ],\n        \"semantic_type\": \"\",\n        \"description\": \"\"\n      }\n    },\n    {\n      \"column\": \"hypertension\",\n      \"properties\": {\n        \"dtype\": \"number\",\n        \"std\": 0,\n        \"min\": 0,\n        \"max\": 1,\n        \"num_unique_values\": 2,\n        \"samples\": [\n          1,\n          0\n        ],\n        \"semantic_type\": \"\",\n        \"description\": \"\"\n      }\n    },\n    {\n      \"column\": \"heart_disease\",\n      \"properties\": {\n        \"dtype\": \"number\",\n        \"std\": 0,\n        \"min\": 0,\n        \"max\": 1,\n        \"num_unique_values\": 2,\n        \"samples\": [\n          0,\n          1\n        ],\n        \"semantic_type\": \"\",\n        \"description\": \"\"\n      }\n    },\n    {\n      \"column\": \"ever_married\",\n      \"properties\": {\n        \"dtype\": \"number\",\n        \"std\": 0,\n        \"min\": 0,\n        \"max\": 1,\n        \"num_unique_values\": 2,\n        \"samples\": [\n          0,\n          1\n        ],\n        \"semantic_type\": \"\",\n        \"description\": \"\"\n      }\n    },\n    {\n      \"column\": \"Residence_type\",\n      \"properties\": {\n        \"dtype\": \"category\",\n        \"num_unique_values\": 2,\n        \"samples\": [\n          \"Rural\",\n          \"Urban\"\n        ],\n        \"semantic_type\": \"\",\n        \"description\": \"\"\n      }\n    },\n    {\n      \"column\": \"avg_glucose_level\",\n      \"properties\": {\n        \"dtype\": \"number\",\n        \"std\": 51.04369656093136,\n        \"min\": 55.22,\n        \"max\": 271.74,\n        \"num_unique_values\": 2576,\n        \"samples\": [\n          60.99,\n          70.58\n        ],\n        \"semantic_type\": \"\",\n        \"description\": \"\"\n      }\n    },\n    {\n      \"column\": \"bmi\",\n      \"properties\": {\n        \"dtype\": \"number\",\n        \"std\": 7.048683898693401,\n        \"min\": 11.3,\n        \"max\": 92.0,\n        \"num_unique_values\": 354,\n        \"samples\": [\n          44.0,\n          32.8\n        ],\n        \"semantic_type\": \"\",\n        \"description\": \"\"\n      }\n    },\n    {\n      \"column\": \"smoking_status\",\n      \"properties\": {\n        \"dtype\": \"category\",\n        \"num_unique_values\": 4,\n        \"samples\": [\n          \"never smoked\",\n          \"Unknown\"\n        ],\n        \"semantic_type\": \"\",\n        \"description\": \"\"\n      }\n    },\n    {\n      \"column\": \"stroke\",\n      \"properties\": {\n        \"dtype\": \"number\",\n        \"std\": 0,\n        \"min\": 0,\n        \"max\": 1,\n        \"num_unique_values\": 2,\n        \"samples\": [\n          0,\n          1\n        ],\n        \"semantic_type\": \"\",\n        \"description\": \"\"\n      }\n    },\n    {\n      \"column\": \"formerly_smoked\",\n      \"properties\": {\n        \"dtype\": \"number\",\n        \"std\": 0,\n        \"min\": 0,\n        \"max\": 1,\n        \"num_unique_values\": 2,\n        \"samples\": [\n          0,\n          1\n        ],\n        \"semantic_type\": \"\",\n        \"description\": \"\"\n      }\n    }\n  ]\n}"
            }
          },
          "metadata": {},
          "execution_count": 23
        }
      ]
    },
    {
      "cell_type": "code",
      "metadata": {
        "id": "L4j1VP52S1lG"
      },
      "source": [
        "df['never_smoked'] = df['smoking_status'].replace(['formerly smoked', 'never smoked', 'smokes', 'Unknown'],[0,1,0,0])\n",
        "\n",
        "df['smokes'] = df['smoking_status'].replace(['formerly smoked', 'never smoked', 'smokes', 'Unknown'],[0,0,1,0])\n",
        "\n",
        "df['Unknown'] = df['smoking_status'].replace(['formerly smoked', 'never smoked', 'smokes', 'Unknown'],[0,0,0,1])"
      ],
      "execution_count": null,
      "outputs": []
    },
    {
      "cell_type": "code",
      "metadata": {
        "id": "DbyIDHSu2gAZ"
      },
      "source": [
        "df.drop(columns='smoking_status',inplace=True)"
      ],
      "execution_count": null,
      "outputs": []
    },
    {
      "cell_type": "code",
      "source": [
        "df['Residence_type'].replace(['Urban','Rural'],[1,0],inplace=True)"
      ],
      "metadata": {
        "id": "ejQUPwxpSZYg"
      },
      "execution_count": null,
      "outputs": []
    },
    {
      "cell_type": "markdown",
      "metadata": {
        "id": "ASs5Bkg4_FeM"
      },
      "source": [
        "I will create the numpy array y with the labels"
      ]
    },
    {
      "cell_type": "code",
      "metadata": {
        "id": "9TcyRf9g3TNM"
      },
      "source": [
        "y = df['stroke'].values"
      ],
      "execution_count": null,
      "outputs": []
    },
    {
      "cell_type": "code",
      "metadata": {
        "colab": {
          "base_uri": "https://localhost:8080/"
        },
        "id": "RtE_m9FITWLc",
        "outputId": "2d01f0e8-e722-4a7f-8942-20d043df18b5"
      },
      "source": [
        "y"
      ],
      "execution_count": null,
      "outputs": [
        {
          "output_type": "execute_result",
          "data": {
            "text/plain": [
              "array([1, 1, 1, ..., 0, 0, 0])"
            ]
          },
          "metadata": {},
          "execution_count": 28
        }
      ]
    },
    {
      "cell_type": "code",
      "source": [
        "corr_matrix = df.corr()\n",
        "\n",
        "# Set up the matplotlib figure\n",
        "plt.figure(figsize=(12, 10))\n",
        "\n",
        "# Create the heatmap\n",
        "sns.heatmap(corr_matrix, annot=True, cmap='coolwarm', vmin=-1, vmax=1, center=0, linewidths=0.5)\n",
        "\n",
        "# Add title and adjust layout\n",
        "plt.title('Correlation Map of Features')\n",
        "plt.show()"
      ],
      "metadata": {
        "colab": {
          "base_uri": "https://localhost:8080/",
          "height": 965
        },
        "id": "3FkyRlgcXjKi",
        "outputId": "b34c2d7e-0a89-4f8a-e3ba-13882131a11c"
      },
      "execution_count": null,
      "outputs": [
        {
          "output_type": "display_data",
          "data": {
            "text/plain": [
              "<Figure size 1200x1000 with 2 Axes>"
            ],
            "image/png": "[encoded data removed]"
          },
          "metadata": {}
        }
      ]
    },
    {
      "cell_type": "code",
      "source": [
        "df\n",
        "df.drop(columns=['stroke'])"
      ],
      "metadata": {
        "colab": {
          "base_uri": "https://localhost:8080/",
          "height": 424
        },
        "id": "8bKZJGAHrX3i",
        "outputId": "26b129ec-4e39-426b-c652-5ec98124c67b"
      },
      "execution_count": null,
      "outputs": [
        {
          "output_type": "execute_result",
          "data": {
            "text/plain": [
              "      gender   age  hypertension  heart_disease  ever_married  Residence_type  \\\n",
              "0          0  67.0             0              1             1               1   \n",
              "2          0  80.0             0              1             1               0   \n",
              "3          1  49.0             0              0             1               1   \n",
              "4          1  79.0             1              0             1               0   \n",
              "5          0  81.0             0              0             1               1   \n",
              "...      ...   ...           ...            ...           ...             ...   \n",
              "5101       1  45.0             0              0             1               1   \n",
              "5102       1  57.0             0              0             1               0   \n",
              "5106       1  81.0             0              0             1               1   \n",
              "5108       0  51.0             0              0             1               0   \n",
              "5109       1  44.0             0              0             1               1   \n",
              "\n",
              "      avg_glucose_level   bmi  formerly_smoked  never_smoked  smokes  Unknown  \n",
              "0                228.69  36.6                1             0       0        0  \n",
              "2                105.92  32.5                0             1       0        0  \n",
              "3                171.23  34.4                0             0       1        0  \n",
              "4                174.12  24.0                0             1       0        0  \n",
              "5                186.21  29.0                1             0       0        0  \n",
              "...                 ...   ...              ...           ...     ...      ...  \n",
              "5101              97.95  24.5                0             0       0        1  \n",
              "5102              77.93  21.7                0             1       0        0  \n",
              "5106             125.20  40.0                0             1       0        0  \n",
              "5108             166.29  25.6                1             0       0        0  \n",
              "5109              85.28  26.2                0             0       0        1  \n",
              "\n",
              "[2934 rows x 12 columns]"
            ],
            "text/html": [
              "\n",
              "  <div id=\"df-41b14206-9138-4173-853c-653de9d1feb4\" class=\"colab-df-container\">\n",
              "    <div>\n",
              "<style scoped>\n",
              "    .dataframe tbody tr th:only-of-type {\n",
              "        vertical-align: middle;\n",
              "    }\n",
              "\n",
              "    .dataframe tbody tr th {\n",
              "        vertical-align: top;\n",
              "    }\n",
              "\n",
              "    .dataframe thead th {\n",
              "        text-align: right;\n",
              "    }\n",
              "</style>\n",
              "<table border=\"1\" class=\"dataframe\">\n",
              "  <thead>\n",
              "    <tr style=\"text-align: right;\">\n",
              "      <th></th>\n",
              "      <th>gender</th>\n",
              "      <th>age</th>\n",
              "      <th>hypertension</th>\n",
              "      <th>heart_disease</th>\n",
              "      <th>ever_married</th>\n",
              "      <th>Residence_type</th>\n",
              "      <th>avg_glucose_level</th>\n",
              "      <th>bmi</th>\n",
              "      <th>formerly_smoked</th>\n",
              "      <th>never_smoked</th>\n",
              "      <th>smokes</th>\n",
              "      <th>Unknown</th>\n",
              "    </tr>\n",
              "  </thead>\n",
              "  <tbody>\n",
              "    <tr>\n",
              "      <th>0</th>\n",
              "      <td>0</td>\n",
              "      <td>67.0</td>\n",
              "      <td>0</td>\n",
              "      <td>1</td>\n",
              "      <td>1</td>\n",
              "      <td>1</td>\n",
              "      <td>228.69</td>\n",
              "      <td>36.6</td>\n",
              "      <td>1</td>\n",
              "      <td>0</td>\n",
              "      <td>0</td>\n",
              "      <td>0</td>\n",
              "    </tr>\n",
              "    <tr>\n",
              "      <th>2</th>\n",
              "      <td>0</td>\n",
              "      <td>80.0</td>\n",
              "      <td>0</td>\n",
              "      <td>1</td>\n",
              "      <td>1</td>\n",
              "      <td>0</td>\n",
              "      <td>105.92</td>\n",
              "      <td>32.5</td>\n",
              "      <td>0</td>\n",
              "      <td>1</td>\n",
              "      <td>0</td>\n",
              "      <td>0</td>\n",
              "    </tr>\n",
              "    <tr>\n",
              "      <th>3</th>\n",
              "      <td>1</td>\n",
              "      <td>49.0</td>\n",
              "      <td>0</td>\n",
              "      <td>0</td>\n",
              "      <td>1</td>\n",
              "      <td>1</td>\n",
              "      <td>171.23</td>\n",
              "      <td>34.4</td>\n",
              "      <td>0</td>\n",
              "      <td>0</td>\n",
              "      <td>1</td>\n",
              "      <td>0</td>\n",
              "    </tr>\n",
              "    <tr>\n",
              "      <th>4</th>\n",
              "      <td>1</td>\n",
              "      <td>79.0</td>\n",
              "      <td>1</td>\n",
              "      <td>0</td>\n",
              "      <td>1</td>\n",
              "      <td>0</td>\n",
              "      <td>174.12</td>\n",
              "      <td>24.0</td>\n",
              "      <td>0</td>\n",
              "      <td>1</td>\n",
              "      <td>0</td>\n",
              "      <td>0</td>\n",
              "    </tr>\n",
              "    <tr>\n",
              "      <th>5</th>\n",
              "      <td>0</td>\n",
              "      <td>81.0</td>\n",
              "      <td>0</td>\n",
              "      <td>0</td>\n",
              "      <td>1</td>\n",
              "      <td>1</td>\n",
              "      <td>186.21</td>\n",
              "      <td>29.0</td>\n",
              "      <td>1</td>\n",
              "      <td>0</td>\n",
              "      <td>0</td>\n",
              "      <td>0</td>\n",
              "    </tr>\n",
              "    <tr>\n",
              "      <th>...</th>\n",
              "      <td>...</td>\n",
              "      <td>...</td>\n",
              "      <td>...</td>\n",
              "      <td>...</td>\n",
              "      <td>...</td>\n",
              "      <td>...</td>\n",
              "      <td>...</td>\n",
              "      <td>...</td>\n",
              "      <td>...</td>\n",
              "      <td>...</td>\n",
              "      <td>...</td>\n",
              "      <td>...</td>\n",
              "    </tr>\n",
              "    <tr>\n",
              "      <th>5101</th>\n",
              "      <td>1</td>\n",
              "      <td>45.0</td>\n",
              "      <td>0</td>\n",
              "      <td>0</td>\n",
              "      <td>1</td>\n",
              "      <td>1</td>\n",
              "      <td>97.95</td>\n",
              "      <td>24.5</td>\n",
              "      <td>0</td>\n",
              "      <td>0</td>\n",
              "      <td>0</td>\n",
              "      <td>1</td>\n",
              "    </tr>\n",
              "    <tr>\n",
              "      <th>5102</th>\n",
              "      <td>1</td>\n",
              "      <td>57.0</td>\n",
              "      <td>0</td>\n",
              "      <td>0</td>\n",
              "      <td>1</td>\n",
              "      <td>0</td>\n",
              "      <td>77.93</td>\n",
              "      <td>21.7</td>\n",
              "      <td>0</td>\n",
              "      <td>1</td>\n",
              "      <td>0</td>\n",
              "      <td>0</td>\n",
              "    </tr>\n",
              "    <tr>\n",
              "      <th>5106</th>\n",
              "      <td>1</td>\n",
              "      <td>81.0</td>\n",
              "      <td>0</td>\n",
              "      <td>0</td>\n",
              "      <td>1</td>\n",
              "      <td>1</td>\n",
              "      <td>125.20</td>\n",
              "      <td>40.0</td>\n",
              "      <td>0</td>\n",
              "      <td>1</td>\n",
              "      <td>0</td>\n",
              "      <td>0</td>\n",
              "    </tr>\n",
              "    <tr>\n",
              "      <th>5108</th>\n",
              "      <td>0</td>\n",
              "      <td>51.0</td>\n",
              "      <td>0</td>\n",
              "      <td>0</td>\n",
              "      <td>1</td>\n",
              "      <td>0</td>\n",
              "      <td>166.29</td>\n",
              "      <td>25.6</td>\n",
              "      <td>1</td>\n",
              "      <td>0</td>\n",
              "      <td>0</td>\n",
              "      <td>0</td>\n",
              "    </tr>\n",
              "    <tr>\n",
              "      <th>5109</th>\n",
              "      <td>1</td>\n",
              "      <td>44.0</td>\n",
              "      <td>0</td>\n",
              "      <td>0</td>\n",
              "      <td>1</td>\n",
              "      <td>1</td>\n",
              "      <td>85.28</td>\n",
              "      <td>26.2</td>\n",
              "      <td>0</td>\n",
              "      <td>0</td>\n",
              "      <td>0</td>\n",
              "      <td>1</td>\n",
              "    </tr>\n",
              "  </tbody>\n",
              "</table>\n",
              "<p>2934 rows × 12 columns</p>\n",
              "</div>\n",
              "    <div class=\"colab-df-buttons\">\n",
              "\n",
              "  <div class=\"colab-df-container\">\n",
              "    <button class=\"colab-df-convert\" onclick=\"convertToInteractive('df-41b14206-9138-4173-853c-653de9d1feb4')\"\n",
              "            title=\"Convert this dataframe to an interactive table.\"\n",
              "            style=\"display:none;\">\n",
              "\n",
              "  <svg xmlns=\"http://www.w3.org/2000/svg\" height=\"24px\" viewBox=\"0 -960 960 960\">\n",
              "    <path d=\"M120-120v-720h720v720H120Zm60-500h600v-160H180v160Zm220 220h160v-160H400v160Zm0 220h160v-160H400v160ZM180-400h160v-160H180v160Zm440 0h160v-160H620v160ZM180-180h160v-160H180v160Zm440 0h160v-160H620v160Z\"/>\n",
              "  </svg>\n",
              "    </button>\n",
              "\n",
              "  <style>\n",
              "    .colab-df-container {\n",
              "      display:flex;\n",
              "      gap: 12px;\n",
              "    }\n",
              "\n",
              "    .colab-df-convert {\n",
              "      background-color: #E8F0FE;\n",
              "      border: none;\n",
              "      border-radius: 50%;\n",
              "      cursor: pointer;\n",
              "      display: none;\n",
              "      fill: #1967D2;\n",
              "      height: 32px;\n",
              "      padding: 0 0 0 0;\n",
              "      width: 32px;\n",
              "    }\n",
              "\n",
              "    .colab-df-convert:hover {\n",
              "      background-color: #E2EBFA;\n",
              "      box-shadow: 0px 1px 2px rgba(60, 64, 67, 0.3), 0px 1px 3px 1px rgba(60, 64, 67, 0.15);\n",
              "      fill: #174EA6;\n",
              "    }\n",
              "\n",
              "    .colab-df-buttons div {\n",
              "      margin-bottom: 4px;\n",
              "    }\n",
              "\n",
              "    [theme=dark] .colab-df-convert {\n",
              "      background-color: #3B4455;\n",
              "      fill: #D2E3FC;\n",
              "    }\n",
              "\n",
              "    [theme=dark] .colab-df-convert:hover {\n",
              "      background-color: #434B5C;\n",
              "      box-shadow: 0px 1px 3px 1px rgba(0, 0, 0, 0.15);\n",
              "      filter: drop-shadow(0px 1px 2px rgba(0, 0, 0, 0.3));\n",
              "      fill: #FFFFFF;\n",
              "    }\n",
              "  </style>\n",
              "\n",
              "    <script>\n",
              "      const buttonEl =\n",
              "        document.querySelector('#df-41b14206-9138-4173-853c-653de9d1feb4 button.colab-df-convert');\n",
              "      buttonEl.style.display =\n",
              "        google.colab.kernel.accessAllowed ? 'block' : 'none';\n",
              "\n",
              "      async function convertToInteractive(key) {\n",
              "        const element = document.querySelector('#df-41b14206-9138-4173-853c-653de9d1feb4');\n",
              "        const dataTable =\n",
              "          await google.colab.kernel.invokeFunction('convertToInteractive',\n",
              "                                                    [key], {});\n",
              "        if (!dataTable) return;\n",
              "\n",
              "        const docLinkHtml = 'Like what you see? Visit the ' +\n",
              "          '<a target=\"_blank\" href=https://colab.research.google.com/notebooks/data_table.ipynb>data table notebook</a>'\n",
              "          + ' to learn more about interactive tables.';\n",
              "        element.innerHTML = '';\n",
              "        dataTable['output_type'] = 'display_data';\n",
              "        await google.colab.output.renderOutput(dataTable, element);\n",
              "        const docLink = document.createElement('div');\n",
              "        docLink.innerHTML = docLinkHtml;\n",
              "        element.appendChild(docLink);\n",
              "      }\n",
              "    </script>\n",
              "  </div>\n",
              "\n",
              "\n",
              "<div id=\"df-670092af-acbd-4bbf-990c-a729a6a8b618\">\n",
              "  <button class=\"colab-df-quickchart\" onclick=\"quickchart('df-670092af-acbd-4bbf-990c-a729a6a8b618')\"\n",
              "            title=\"Suggest charts\"\n",
              "            style=\"display:none;\">\n",
              "\n",
              "<svg xmlns=\"http://www.w3.org/2000/svg\" height=\"24px\"viewBox=\"0 0 24 24\"\n",
              "     width=\"24px\">\n",
              "    <g>\n",
              "        <path d=\"M19 3H5c-1.1 0-2 .9-2 2v14c0 1.1.9 2 2 2h14c1.1 0 2-.9 2-2V5c0-1.1-.9-2-2-2zM9 17H7v-7h2v7zm4 0h-2V7h2v10zm4 0h-2v-4h2v4z\"/>\n",
              "    </g>\n",
              "</svg>\n",
              "  </button>\n",
              "\n",
              "<style>\n",
              "  .colab-df-quickchart {\n",
              "      --bg-color: #E8F0FE;\n",
              "      --fill-color: #1967D2;\n",
              "      --hover-bg-color: #E2EBFA;\n",
              "      --hover-fill-color: #174EA6;\n",
              "      --disabled-fill-color: #AAA;\n",
              "      --disabled-bg-color: #DDD;\n",
              "  }\n",
              "\n",
              "  [theme=dark] .colab-df-quickchart {\n",
              "      --bg-color: #3B4455;\n",
              "      --fill-color: #D2E3FC;\n",
              "      --hover-bg-color: #434B5C;\n",
              "      --hover-fill-color: #FFFFFF;\n",
              "      --disabled-bg-color: #3B4455;\n",
              "      --disabled-fill-color: #666;\n",
              "  }\n",
              "\n",
              "  .colab-df-quickchart {\n",
              "    background-color: var(--bg-color);\n",
              "    border: none;\n",
              "    border-radius: 50%;\n",
              "    cursor: pointer;\n",
              "    display: none;\n",
              "    fill: var(--fill-color);\n",
              "    height: 32px;\n",
              "    padding: 0;\n",
              "    width: 32px;\n",
              "  }\n",
              "\n",
              "  .colab-df-quickchart:hover {\n",
              "    background-color: var(--hover-bg-color);\n",
              "    box-shadow: 0 1px 2px rgba(60, 64, 67, 0.3), 0 1px 3px 1px rgba(60, 64, 67, 0.15);\n",
              "    fill: var(--button-hover-fill-color);\n",
              "  }\n",
              "\n",
              "  .colab-df-quickchart-complete:disabled,\n",
              "  .colab-df-quickchart-complete:disabled:hover {\n",
              "    background-color: var(--disabled-bg-color);\n",
              "    fill: var(--disabled-fill-color);\n",
              "    box-shadow: none;\n",
              "  }\n",
              "\n",
              "  .colab-df-spinner {\n",
              "    border: 2px solid var(--fill-color);\n",
              "    border-color: transparent;\n",
              "    border-bottom-color: var(--fill-color);\n",
              "    animation:\n",
              "      spin 1s steps(1) infinite;\n",
              "  }\n",
              "\n",
              "  @keyframes spin {\n",
              "    0% {\n",
              "      border-color: transparent;\n",
              "      border-bottom-color: var(--fill-color);\n",
              "      border-left-color: var(--fill-color);\n",
              "    }\n",
              "    20% {\n",
              "      border-color: transparent;\n",
              "      border-left-color: var(--fill-color);\n",
              "      border-top-color: var(--fill-color);\n",
              "    }\n",
              "    30% {\n",
              "      border-color: transparent;\n",
              "      border-left-color: var(--fill-color);\n",
              "      border-top-color: var(--fill-color);\n",
              "      border-right-color: var(--fill-color);\n",
              "    }\n",
              "    40% {\n",
              "      border-color: transparent;\n",
              "      border-right-color: var(--fill-color);\n",
              "      border-top-color: var(--fill-color);\n",
              "    }\n",
              "    60% {\n",
              "      border-color: transparent;\n",
              "      border-right-color: var(--fill-color);\n",
              "    }\n",
              "    80% {\n",
              "      border-color: transparent;\n",
              "      border-right-color: var(--fill-color);\n",
              "      border-bottom-color: var(--fill-color);\n",
              "    }\n",
              "    90% {\n",
              "      border-color: transparent;\n",
              "      border-bottom-color: var(--fill-color);\n",
              "    }\n",
              "  }\n",
              "</style>\n",
              "\n",
              "  <script>\n",
              "    async function quickchart(key) {\n",
              "      const quickchartButtonEl =\n",
              "        document.querySelector('#' + key + ' button');\n",
              "      quickchartButtonEl.disabled = true;  // To prevent multiple clicks.\n",
              "      quickchartButtonEl.classList.add('colab-df-spinner');\n",
              "      try {\n",
              "        const charts = await google.colab.kernel.invokeFunction(\n",
              "            'suggestCharts', [key], {});\n",
              "      } catch (error) {\n",
              "        console.error('Error during call to suggestCharts:', error);\n",
              "      }\n",
              "      quickchartButtonEl.classList.remove('colab-df-spinner');\n",
              "      quickchartButtonEl.classList.add('colab-df-quickchart-complete');\n",
              "    }\n",
              "    (() => {\n",
              "      let quickchartButtonEl =\n",
              "        document.querySelector('#df-670092af-acbd-4bbf-990c-a729a6a8b618 button');\n",
              "      quickchartButtonEl.style.display =\n",
              "        google.colab.kernel.accessAllowed ? 'block' : 'none';\n",
              "    })();\n",
              "  </script>\n",
              "</div>\n",
              "\n",
              "    </div>\n",
              "  </div>\n"
            ],
            "application/vnd.google.colaboratory.intrinsic+json": {
              "type": "dataframe",
              "summary": "{\n  \"name\": \"df\",\n  \"rows\": 2934,\n  \"fields\": [\n    {\n      \"column\": \"gender\",\n      \"properties\": {\n        \"dtype\": \"number\",\n        \"std\": 0,\n        \"min\": 0,\n        \"max\": 1,\n        \"num_unique_values\": 2,\n        \"samples\": [\n          1,\n          0\n        ],\n        \"semantic_type\": \"\",\n        \"description\": \"\"\n      }\n    },\n    {\n      \"column\": \"age\",\n      \"properties\": {\n        \"dtype\": \"number\",\n        \"std\": 12.793424837106857,\n        \"min\": 38.0,\n        \"max\": 82.0,\n        \"num_unique_values\": 45,\n        \"samples\": [\n          46.0,\n          77.0\n        ],\n        \"semantic_type\": \"\",\n        \"description\": \"\"\n      }\n    },\n    {\n      \"column\": \"hypertension\",\n      \"properties\": {\n        \"dtype\": \"number\",\n        \"std\": 0,\n        \"min\": 0,\n        \"max\": 1,\n        \"num_unique_values\": 2,\n        \"samples\": [\n          1,\n          0\n        ],\n        \"semantic_type\": \"\",\n        \"description\": \"\"\n      }\n    },\n    {\n      \"column\": \"heart_disease\",\n      \"properties\": {\n        \"dtype\": \"number\",\n        \"std\": 0,\n        \"min\": 0,\n        \"max\": 1,\n        \"num_unique_values\": 2,\n        \"samples\": [\n          0,\n          1\n        ],\n        \"semantic_type\": \"\",\n        \"description\": \"\"\n      }\n    },\n    {\n      \"column\": \"ever_married\",\n      \"properties\": {\n        \"dtype\": \"number\",\n        \"std\": 0,\n        \"min\": 0,\n        \"max\": 1,\n        \"num_unique_values\": 2,\n        \"samples\": [\n          0,\n          1\n        ],\n        \"semantic_type\": \"\",\n        \"description\": \"\"\n      }\n    },\n    {\n      \"column\": \"Residence_type\",\n      \"properties\": {\n        \"dtype\": \"number\",\n        \"std\": 0,\n        \"min\": 0,\n        \"max\": 1,\n        \"num_unique_values\": 2,\n        \"samples\": [\n          0,\n          1\n        ],\n        \"semantic_type\": \"\",\n        \"description\": \"\"\n      }\n    },\n    {\n      \"column\": \"avg_glucose_level\",\n      \"properties\": {\n        \"dtype\": \"number\",\n        \"std\": 51.04369656093136,\n        \"min\": 55.22,\n        \"max\": 271.74,\n        \"num_unique_values\": 2576,\n        \"samples\": [\n          60.99,\n          70.58\n        ],\n        \"semantic_type\": \"\",\n        \"description\": \"\"\n      }\n    },\n    {\n      \"column\": \"bmi\",\n      \"properties\": {\n        \"dtype\": \"number\",\n        \"std\": 7.048683898693401,\n        \"min\": 11.3,\n        \"max\": 92.0,\n        \"num_unique_values\": 354,\n        \"samples\": [\n          44.0,\n          32.8\n        ],\n        \"semantic_type\": \"\",\n        \"description\": \"\"\n      }\n    },\n    {\n      \"column\": \"formerly_smoked\",\n      \"properties\": {\n        \"dtype\": \"number\",\n        \"std\": 0,\n        \"min\": 0,\n        \"max\": 1,\n        \"num_unique_values\": 2,\n        \"samples\": [\n          0,\n          1\n        ],\n        \"semantic_type\": \"\",\n        \"description\": \"\"\n      }\n    },\n    {\n      \"column\": \"never_smoked\",\n      \"properties\": {\n        \"dtype\": \"number\",\n        \"std\": 0,\n        \"min\": 0,\n        \"max\": 1,\n        \"num_unique_values\": 2,\n        \"samples\": [\n          1,\n          0\n        ],\n        \"semantic_type\": \"\",\n        \"description\": \"\"\n      }\n    },\n    {\n      \"column\": \"smokes\",\n      \"properties\": {\n        \"dtype\": \"number\",\n        \"std\": 0,\n        \"min\": 0,\n        \"max\": 1,\n        \"num_unique_values\": 2,\n        \"samples\": [\n          1,\n          0\n        ],\n        \"semantic_type\": \"\",\n        \"description\": \"\"\n      }\n    },\n    {\n      \"column\": \"Unknown\",\n      \"properties\": {\n        \"dtype\": \"number\",\n        \"std\": 0,\n        \"min\": 0,\n        \"max\": 1,\n        \"num_unique_values\": 2,\n        \"samples\": [\n          1,\n          0\n        ],\n        \"semantic_type\": \"\",\n        \"description\": \"\"\n      }\n    }\n  ]\n}"
            }
          },
          "metadata": {},
          "execution_count": 29
        }
      ]
    },
    {
      "cell_type": "markdown",
      "metadata": {
        "id": "ep6Jq09Q_abM"
      },
      "source": [
        "Now, the numpy array X with the features"
      ]
    },
    {
      "cell_type": "code",
      "source": [
        "X = (df.drop(columns=['stroke'])).values\n",
        "df = df.drop(columns=['stroke'])"
      ],
      "metadata": {
        "id": "IfryrRiux2zH"
      },
      "execution_count": null,
      "outputs": []
    },
    {
      "cell_type": "code",
      "metadata": {
        "id": "MWEb2Ovc3vZg"
      },
      "source": [
        "X=df.values\n",
        "X = (df.drop(columns=['gender', 'hypertension', 'ever_married','heart_disease','never_smoked', 'Residence_type', 'formerly_smoked', 'never_smoked','smokes','Unknown'])).values"
      ],
      "execution_count": null,
      "outputs": []
    },
    {
      "cell_type": "code",
      "metadata": {
        "colab": {
          "base_uri": "https://localhost:8080/"
        },
        "id": "NDq_sVd43-Rx",
        "outputId": "fbd60bc8-eedb-469b-d219-c166c1317254"
      },
      "source": [
        "print(X[:5,:])"
      ],
      "execution_count": null,
      "outputs": [
        {
          "output_type": "stream",
          "name": "stdout",
          "text": [
            "[[ 67.   228.69  36.6 ]\n",
            " [ 80.   105.92  32.5 ]\n",
            " [ 49.   171.23  34.4 ]\n",
            " [ 79.   174.12  24.  ]\n",
            " [ 81.   186.21  29.  ]]\n"
          ]
        }
      ]
    },
    {
      "cell_type": "code",
      "metadata": {
        "id": "NvdoD8g6LuNP"
      },
      "source": [
        "X_add = X[y == 1]\n",
        "y_add = np.ones(X_add.shape[0])"
      ],
      "execution_count": null,
      "outputs": []
    },
    {
      "cell_type": "markdown",
      "metadata": {
        "id": "p2Pt8UFeL6hW"
      },
      "source": [
        "Add a copy of the stroke patients to the set"
      ]
    },
    {
      "cell_type": "code",
      "metadata": {
        "colab": {
          "base_uri": "https://localhost:8080/"
        },
        "id": "d9yF3y1SL5oj",
        "outputId": "76dca8f6-365a-466c-b97d-356d1852a58b"
      },
      "source": [
        "for i in range(12):\n",
        "  X = np.append(X,X_add,axis=0)\n",
        "  y = np.append(y,y_add)\n",
        "print('had a stroke',(y == 1).sum())\n",
        "print('did not have a stroke', len(y)-(y == 1).sum())"
      ],
      "execution_count": null,
      "outputs": [
        {
          "output_type": "stream",
          "name": "stdout",
          "text": [
            "had a stroke 2691\n",
            "did not have a stroke 2727\n"
          ]
        }
      ]
    },
    {
      "cell_type": "code",
      "source": [
        "y.shape"
      ],
      "metadata": {
        "colab": {
          "base_uri": "https://localhost:8080/"
        },
        "id": "sAbdZE9q1U-2",
        "outputId": "57f45a30-fe12-4d39-b07d-f4de760e921e"
      },
      "execution_count": null,
      "outputs": [
        {
          "output_type": "execute_result",
          "data": {
            "text/plain": [
              "(5418,)"
            ]
          },
          "metadata": {},
          "execution_count": 35
        }
      ]
    },
    {
      "cell_type": "markdown",
      "metadata": {
        "id": "gxdW-yGr_wXd"
      },
      "source": [
        "Now, we split into training and validation set"
      ]
    },
    {
      "cell_type": "code",
      "metadata": {
        "id": "Gug9sXP84GLC"
      },
      "source": [
        "X_train, X_val, y_train, y_val = train_test_split(X,y,test_size=0.25,random_state=42)"
      ],
      "execution_count": null,
      "outputs": []
    },
    {
      "cell_type": "code",
      "source": [
        "X.shape\n"
      ],
      "metadata": {
        "colab": {
          "base_uri": "https://localhost:8080/"
        },
        "id": "ATFuGWeTdm0c",
        "outputId": "e38ec08f-fb75-4f3b-9030-8a49c47594e9"
      },
      "execution_count": null,
      "outputs": [
        {
          "output_type": "execute_result",
          "data": {
            "text/plain": [
              "(5418, 3)"
            ]
          },
          "metadata": {},
          "execution_count": 37
        }
      ]
    },
    {
      "cell_type": "markdown",
      "metadata": {
        "id": "WU2Pm72jCUlV"
      },
      "source": [
        "Scale"
      ]
    },
    {
      "cell_type": "code",
      "source": [
        "rfe = RFE(estimator=DecisionTreeClassifier(), n_features_to_select=3)"
      ],
      "metadata": {
        "id": "3GN9hWBPdo_s"
      },
      "execution_count": null,
      "outputs": []
    },
    {
      "cell_type": "code",
      "source": [
        "rfe.fit(X_train, y_train)"
      ],
      "metadata": {
        "colab": {
          "base_uri": "https://localhost:8080/",
          "height": 116
        },
        "id": "rlMC_Bwdd1Rh",
        "outputId": "b676af8e-fb64-4760-e890-149da45f4251"
      },
      "execution_count": null,
      "outputs": [
        {
          "output_type": "execute_result",
          "data": {
            "text/plain": [
              "RFE(estimator=DecisionTreeClassifier(), n_features_to_select=3)"
            ],
            "text/html": [
              "<style>#sk-container-id-1 {color: black;background-color: white;}#sk-container-id-1 pre{padding: 0;}#sk-container-id-1 div.sk-toggleable {background-color: white;}#sk-container-id-1 label.sk-toggleable__label {cursor: pointer;display: block;width: 100%;margin-bottom: 0;padding: 0.3em;box-sizing: border-box;text-align: center;}#sk-container-id-1 label.sk-toggleable__label-arrow:before {content: \"▸\";float: left;margin-right: 0.25em;color: #696969;}#sk-container-id-1 label.sk-toggleable__label-arrow:hover:before {color: black;}#sk-container-id-1 div.sk-estimator:hover label.sk-toggleable__label-arrow:before {color: black;}#sk-container-id-1 div.sk-toggleable__content {max-height: 0;max-width: 0;overflow: hidden;text-align: left;background-color: #f0f8ff;}#sk-container-id-1 div.sk-toggleable__content pre {margin: 0.2em;color: black;border-radius: 0.25em;background-color: #f0f8ff;}#sk-container-id-1 input.sk-toggleable__control:checked~div.sk-toggleable__content {max-height: 200px;max-width: 100%;overflow: auto;}#sk-container-id-1 input.sk-toggleable__control:checked~label.sk-toggleable__label-arrow:before {content: \"▾\";}#sk-container-id-1 div.sk-estimator input.sk-toggleable__control:checked~label.sk-toggleable__label {background-color: #d4ebff;}#sk-container-id-1 div.sk-label input.sk-toggleable__control:checked~label.sk-toggleable__label {background-color: #d4ebff;}#sk-container-id-1 input.sk-hidden--visually {border: 0;clip: rect(1px 1px 1px 1px);clip: rect(1px, 1px, 1px, 1px);height: 1px;margin: -1px;overflow: hidden;padding: 0;position: absolute;width: 1px;}#sk-container-id-1 div.sk-estimator {font-family: monospace;background-color: #f0f8ff;border: 1px dotted black;border-radius: 0.25em;box-sizing: border-box;margin-bottom: 0.5em;}#sk-container-id-1 div.sk-estimator:hover {background-color: #d4ebff;}#sk-container-id-1 div.sk-parallel-item::after {content: \"\";width: 100%;border-bottom: 1px solid gray;flex-grow: 1;}#sk-container-id-1 div.sk-label:hover label.sk-toggleable__label {background-color: #d4ebff;}#sk-container-id-1 div.sk-serial::before {content: \"\";position: absolute;border-left: 1px solid gray;box-sizing: border-box;top: 0;bottom: 0;left: 50%;z-index: 0;}#sk-container-id-1 div.sk-serial {display: flex;flex-direction: column;align-items: center;background-color: white;padding-right: 0.2em;padding-left: 0.2em;position: relative;}#sk-container-id-1 div.sk-item {position: relative;z-index: 1;}#sk-container-id-1 div.sk-parallel {display: flex;align-items: stretch;justify-content: center;background-color: white;position: relative;}#sk-container-id-1 div.sk-item::before, #sk-container-id-1 div.sk-parallel-item::before {content: \"\";position: absolute;border-left: 1px solid gray;box-sizing: border-box;top: 0;bottom: 0;left: 50%;z-index: -1;}#sk-container-id-1 div.sk-parallel-item {display: flex;flex-direction: column;z-index: 1;position: relative;background-color: white;}#sk-container-id-1 div.sk-parallel-item:first-child::after {align-self: flex-end;width: 50%;}#sk-container-id-1 div.sk-parallel-item:last-child::after {align-self: flex-start;width: 50%;}#sk-container-id-1 div.sk-parallel-item:only-child::after {width: 0;}#sk-container-id-1 div.sk-dashed-wrapped {border: 1px dashed gray;margin: 0 0.4em 0.5em 0.4em;box-sizing: border-box;padding-bottom: 0.4em;background-color: white;}#sk-container-id-1 div.sk-label label {font-family: monospace;font-weight: bold;display: inline-block;line-height: 1.2em;}#sk-container-id-1 div.sk-label-container {text-align: center;}#sk-container-id-1 div.sk-container {/* jupyter's `normalize.less` sets `[hidden] { display: none; }` but bootstrap.min.css set `[hidden] { display: none !important; }` so we also need the `!important` here to be able to override the default hidden behavior on the sphinx rendered scikit-learn.org. See: https://github.com/scikit-learn/scikit-learn/issues/21755 */display: inline-block !important;position: relative;}#sk-container-id-1 div.sk-text-repr-fallback {display: none;}</style><div id=\"sk-container-id-1\" class=\"sk-top-container\"><div class=\"sk-text-repr-fallback\"><pre>RFE(estimator=DecisionTreeClassifier(), n_features_to_select=3)</pre><b>In a Jupyter environment, please rerun this cell to show the HTML representation or trust the notebook. <br />On GitHub, the HTML representation is unable to render, please try loading this page with nbviewer.org.</b></div><div class=\"sk-container\" hidden><div class=\"sk-item sk-dashed-wrapped\"><div class=\"sk-label-container\"><div class=\"sk-label sk-toggleable\"><input class=\"sk-toggleable__control sk-hidden--visually\" id=\"sk-estimator-id-1\" type=\"checkbox\" ><label for=\"sk-estimator-id-1\" class=\"sk-toggleable__label sk-toggleable__label-arrow\">RFE</label><div class=\"sk-toggleable__content\"><pre>RFE(estimator=DecisionTreeClassifier(), n_features_to_select=3)</pre></div></div></div><div class=\"sk-parallel\"><div class=\"sk-parallel-item\"><div class=\"sk-item\"><div class=\"sk-label-container\"><div class=\"sk-label sk-toggleable\"><input class=\"sk-toggleable__control sk-hidden--visually\" id=\"sk-estimator-id-2\" type=\"checkbox\" ><label for=\"sk-estimator-id-2\" class=\"sk-toggleable__label sk-toggleable__label-arrow\">estimator: DecisionTreeClassifier</label><div class=\"sk-toggleable__content\"><pre>DecisionTreeClassifier()</pre></div></div></div><div class=\"sk-serial\"><div class=\"sk-item\"><div class=\"sk-estimator sk-toggleable\"><input class=\"sk-toggleable__control sk-hidden--visually\" id=\"sk-estimator-id-3\" type=\"checkbox\" ><label for=\"sk-estimator-id-3\" class=\"sk-toggleable__label sk-toggleable__label-arrow\">DecisionTreeClassifier</label><div class=\"sk-toggleable__content\"><pre>DecisionTreeClassifier()</pre></div></div></div></div></div></div></div></div></div></div>"
            ]
          },
          "metadata": {},
          "execution_count": 44
        }
      ]
    },
    {
      "cell_type": "code",
      "source": [
        "X.shape"
      ],
      "metadata": {
        "id": "4mVWCsAD6Kcf"
      },
      "execution_count": null,
      "outputs": []
    },
    {
      "cell_type": "code",
      "source": [
        "df.shape"
      ],
      "metadata": {
        "id": "89Ewvomr6NJf"
      },
      "execution_count": null,
      "outputs": []
    },
    {
      "cell_type": "code",
      "source": [
        "for i, col in enumerate(df.columns):\n",
        "    print(f\"{col} selected={rfe.support_[i]} rank = {rfe.ranking_[i]}\")"
      ],
      "metadata": {
        "colab": {
          "base_uri": "https://localhost:8080/"
        },
        "id": "iJu5DWjNd8VS",
        "outputId": "c5ddce61-b206-4dd2-fbd0-159d680ab63c"
      },
      "execution_count": null,
      "outputs": [
        {
          "output_type": "stream",
          "name": "stdout",
          "text": [
            "gender selected=False rank = 6\n",
            "age selected=True rank = 1\n",
            "hypertension selected=False rank = 5\n",
            "heart_disease selected=False rank = 7\n",
            "ever_married selected=False rank = 9\n",
            "Residence_type selected=False rank = 2\n",
            "avg_glucose_level selected=True rank = 1\n",
            "bmi selected=True rank = 1\n",
            "formerly_smoked selected=False rank = 8\n",
            "never_smoked selected=False rank = 3\n",
            "smokes selected=False rank = 4\n",
            "Unknown selected=False rank = 10\n"
          ]
        }
      ]
    },
    {
      "cell_type": "code",
      "source": [
        "from sklearn.feature_selection import RFECV\n",
        "rfecv = RFECV(estimator = DecisionTreeClassifier(), scoring = 'accuracy', min_features_to_select=2)\n"
      ],
      "metadata": {
        "id": "6VBku6aGgnXX"
      },
      "execution_count": null,
      "outputs": []
    },
    {
      "cell_type": "code",
      "source": [
        "rfecv.fit(X_train, y_train)\n"
      ],
      "metadata": {
        "colab": {
          "base_uri": "https://localhost:8080/",
          "height": 116
        },
        "collapsed": true,
        "id": "zQ_8zcL5hQuR",
        "outputId": "ed026bd2-fca9-4419-c962-b03347e59095"
      },
      "execution_count": null,
      "outputs": [
        {
          "output_type": "execute_result",
          "data": {
            "text/plain": [
              "RFECV(estimator=DecisionTreeClassifier(), min_features_to_select=2,\n",
              "      scoring='accuracy')"
            ],
            "text/html": [
              "<style>#sk-container-id-4 {color: black;background-color: white;}#sk-container-id-4 pre{padding: 0;}#sk-container-id-4 div.sk-toggleable {background-color: white;}#sk-container-id-4 label.sk-toggleable__label {cursor: pointer;display: block;width: 100%;margin-bottom: 0;padding: 0.3em;box-sizing: border-box;text-align: center;}#sk-container-id-4 label.sk-toggleable__label-arrow:before {content: \"▸\";float: left;margin-right: 0.25em;color: #696969;}#sk-container-id-4 label.sk-toggleable__label-arrow:hover:before {color: black;}#sk-container-id-4 div.sk-estimator:hover label.sk-toggleable__label-arrow:before {color: black;}#sk-container-id-4 div.sk-toggleable__content {max-height: 0;max-width: 0;overflow: hidden;text-align: left;background-color: #f0f8ff;}#sk-container-id-4 div.sk-toggleable__content pre {margin: 0.2em;color: black;border-radius: 0.25em;background-color: #f0f8ff;}#sk-container-id-4 input.sk-toggleable__control:checked~div.sk-toggleable__content {max-height: 200px;max-width: 100%;overflow: auto;}#sk-container-id-4 input.sk-toggleable__control:checked~label.sk-toggleable__label-arrow:before {content: \"▾\";}#sk-container-id-4 div.sk-estimator input.sk-toggleable__control:checked~label.sk-toggleable__label {background-color: #d4ebff;}#sk-container-id-4 div.sk-label input.sk-toggleable__control:checked~label.sk-toggleable__label {background-color: #d4ebff;}#sk-container-id-4 input.sk-hidden--visually {border: 0;clip: rect(1px 1px 1px 1px);clip: rect(1px, 1px, 1px, 1px);height: 1px;margin: -1px;overflow: hidden;padding: 0;position: absolute;width: 1px;}#sk-container-id-4 div.sk-estimator {font-family: monospace;background-color: #f0f8ff;border: 1px dotted black;border-radius: 0.25em;box-sizing: border-box;margin-bottom: 0.5em;}#sk-container-id-4 div.sk-estimator:hover {background-color: #d4ebff;}#sk-container-id-4 div.sk-parallel-item::after {content: \"\";width: 100%;border-bottom: 1px solid gray;flex-grow: 1;}#sk-container-id-4 div.sk-label:hover label.sk-toggleable__label {background-color: #d4ebff;}#sk-container-id-4 div.sk-serial::before {content: \"\";position: absolute;border-left: 1px solid gray;box-sizing: border-box;top: 0;bottom: 0;left: 50%;z-index: 0;}#sk-container-id-4 div.sk-serial {display: flex;flex-direction: column;align-items: center;background-color: white;padding-right: 0.2em;padding-left: 0.2em;position: relative;}#sk-container-id-4 div.sk-item {position: relative;z-index: 1;}#sk-container-id-4 div.sk-parallel {display: flex;align-items: stretch;justify-content: center;background-color: white;position: relative;}#sk-container-id-4 div.sk-item::before, #sk-container-id-4 div.sk-parallel-item::before {content: \"\";position: absolute;border-left: 1px solid gray;box-sizing: border-box;top: 0;bottom: 0;left: 50%;z-index: -1;}#sk-container-id-4 div.sk-parallel-item {display: flex;flex-direction: column;z-index: 1;position: relative;background-color: white;}#sk-container-id-4 div.sk-parallel-item:first-child::after {align-self: flex-end;width: 50%;}#sk-container-id-4 div.sk-parallel-item:last-child::after {align-self: flex-start;width: 50%;}#sk-container-id-4 div.sk-parallel-item:only-child::after {width: 0;}#sk-container-id-4 div.sk-dashed-wrapped {border: 1px dashed gray;margin: 0 0.4em 0.5em 0.4em;box-sizing: border-box;padding-bottom: 0.4em;background-color: white;}#sk-container-id-4 div.sk-label label {font-family: monospace;font-weight: bold;display: inline-block;line-height: 1.2em;}#sk-container-id-4 div.sk-label-container {text-align: center;}#sk-container-id-4 div.sk-container {/* jupyter's `normalize.less` sets `[hidden] { display: none; }` but bootstrap.min.css set `[hidden] { display: none !important; }` so we also need the `!important` here to be able to override the default hidden behavior on the sphinx rendered scikit-learn.org. See: https://github.com/scikit-learn/scikit-learn/issues/21755 */display: inline-block !important;position: relative;}#sk-container-id-4 div.sk-text-repr-fallback {display: none;}</style><div id=\"sk-container-id-4\" class=\"sk-top-container\"><div class=\"sk-text-repr-fallback\"><pre>RFECV(estimator=DecisionTreeClassifier(), min_features_to_select=2,\n",
              "      scoring=&#x27;accuracy&#x27;)</pre><b>In a Jupyter environment, please rerun this cell to show the HTML representation or trust the notebook. <br />On GitHub, the HTML representation is unable to render, please try loading this page with nbviewer.org.</b></div><div class=\"sk-container\" hidden><div class=\"sk-item sk-dashed-wrapped\"><div class=\"sk-label-container\"><div class=\"sk-label sk-toggleable\"><input class=\"sk-toggleable__control sk-hidden--visually\" id=\"sk-estimator-id-10\" type=\"checkbox\" ><label for=\"sk-estimator-id-10\" class=\"sk-toggleable__label sk-toggleable__label-arrow\">RFECV</label><div class=\"sk-toggleable__content\"><pre>RFECV(estimator=DecisionTreeClassifier(), min_features_to_select=2,\n",
              "      scoring=&#x27;accuracy&#x27;)</pre></div></div></div><div class=\"sk-parallel\"><div class=\"sk-parallel-item\"><div class=\"sk-item\"><div class=\"sk-label-container\"><div class=\"sk-label sk-toggleable\"><input class=\"sk-toggleable__control sk-hidden--visually\" id=\"sk-estimator-id-11\" type=\"checkbox\" ><label for=\"sk-estimator-id-11\" class=\"sk-toggleable__label sk-toggleable__label-arrow\">estimator: DecisionTreeClassifier</label><div class=\"sk-toggleable__content\"><pre>DecisionTreeClassifier()</pre></div></div></div><div class=\"sk-serial\"><div class=\"sk-item\"><div class=\"sk-estimator sk-toggleable\"><input class=\"sk-toggleable__control sk-hidden--visually\" id=\"sk-estimator-id-12\" type=\"checkbox\" ><label for=\"sk-estimator-id-12\" class=\"sk-toggleable__label sk-toggleable__label-arrow\">DecisionTreeClassifier</label><div class=\"sk-toggleable__content\"><pre>DecisionTreeClassifier()</pre></div></div></div></div></div></div></div></div></div></div>"
            ]
          },
          "metadata": {},
          "execution_count": 55
        }
      ]
    },
    {
      "cell_type": "code",
      "source": [
        "for i, col in enumerate(df.columns):\n",
        "    print(f\"{col} selected={rfecv.support_[i]} rank = {rfecv.ranking_[i]}\")"
      ],
      "metadata": {
        "colab": {
          "base_uri": "https://localhost:8080/"
        },
        "id": "7CKiVPLziDCQ",
        "outputId": "597c2eed-65e6-473c-8b25-2eac2ad88c62"
      },
      "execution_count": null,
      "outputs": [
        {
          "output_type": "stream",
          "name": "stdout",
          "text": [
            "gender selected=True rank = 1\n",
            "age selected=True rank = 1\n",
            "hypertension selected=True rank = 1\n",
            "heart_disease selected=True rank = 1\n",
            "ever_married selected=False rank = 3\n",
            "Residence_type selected=True rank = 1\n",
            "avg_glucose_level selected=True rank = 1\n",
            "bmi selected=True rank = 1\n",
            "formerly_smoked selected=True rank = 1\n",
            "never_smoked selected=True rank = 1\n",
            "smokes selected=True rank = 1\n",
            "Unknown selected=False rank = 2\n"
          ]
        }
      ]
    },
    {
      "cell_type": "code",
      "source": [
        "from sklearn.metrics import accuracy_score\n",
        "y_pred = rfecv.predict(X_val)\n",
        "print(f\"Test Accuracy: {accuracy_score(y_val, y_pred)}\")\n",
        "print(classification_report(y_val, y_pred))"
      ],
      "metadata": {
        "colab": {
          "base_uri": "https://localhost:8080/"
        },
        "id": "f8883bD7ie99",
        "outputId": "9b23eb6a-1dd4-4269-f873-f256bcaeb7f3"
      },
      "execution_count": null,
      "outputs": [
        {
          "output_type": "stream",
          "name": "stdout",
          "text": [
            "Test Accuracy: 0.9535055350553505\n",
            "              precision    recall  f1-score   support\n",
            "\n",
            "         0.0       1.00      0.91      0.95       686\n",
            "         1.0       0.91      1.00      0.96       669\n",
            "\n",
            "    accuracy                           0.95      1355\n",
            "   macro avg       0.96      0.95      0.95      1355\n",
            "weighted avg       0.96      0.95      0.95      1355\n",
            "\n"
          ]
        }
      ]
    },
    {
      "cell_type": "code",
      "metadata": {
        "id": "9zGuTK2J5ZXm"
      },
      "source": [
        "X_train.shape"
      ],
      "execution_count": null,
      "outputs": []
    },
    {
      "cell_type": "code",
      "source": [
        "clf = DecisionTreeClassifier(random_state=42)\n",
        "\n",
        "# Train model\n",
        "clf.fit(X_train, y_train)"
      ],
      "metadata": {
        "colab": {
          "base_uri": "https://localhost:8080/",
          "height": 75
        },
        "id": "uA1xSHgWRq1R",
        "outputId": "af04a3ad-d5ab-47c4-b87a-538416693cbe"
      },
      "execution_count": null,
      "outputs": [
        {
          "output_type": "execute_result",
          "data": {
            "text/plain": [
              "DecisionTreeClassifier(random_state=42)"
            ],
            "text/html": [
              "<style>#sk-container-id-1 {color: black;background-color: white;}#sk-container-id-1 pre{padding: 0;}#sk-container-id-1 div.sk-toggleable {background-color: white;}#sk-container-id-1 label.sk-toggleable__label {cursor: pointer;display: block;width: 100%;margin-bottom: 0;padding: 0.3em;box-sizing: border-box;text-align: center;}#sk-container-id-1 label.sk-toggleable__label-arrow:before {content: \"▸\";float: left;margin-right: 0.25em;color: #696969;}#sk-container-id-1 label.sk-toggleable__label-arrow:hover:before {color: black;}#sk-container-id-1 div.sk-estimator:hover label.sk-toggleable__label-arrow:before {color: black;}#sk-container-id-1 div.sk-toggleable__content {max-height: 0;max-width: 0;overflow: hidden;text-align: left;background-color: #f0f8ff;}#sk-container-id-1 div.sk-toggleable__content pre {margin: 0.2em;color: black;border-radius: 0.25em;background-color: #f0f8ff;}#sk-container-id-1 input.sk-toggleable__control:checked~div.sk-toggleable__content {max-height: 200px;max-width: 100%;overflow: auto;}#sk-container-id-1 input.sk-toggleable__control:checked~label.sk-toggleable__label-arrow:before {content: \"▾\";}#sk-container-id-1 div.sk-estimator input.sk-toggleable__control:checked~label.sk-toggleable__label {background-color: #d4ebff;}#sk-container-id-1 div.sk-label input.sk-toggleable__control:checked~label.sk-toggleable__label {background-color: #d4ebff;}#sk-container-id-1 input.sk-hidden--visually {border: 0;clip: rect(1px 1px 1px 1px);clip: rect(1px, 1px, 1px, 1px);height: 1px;margin: -1px;overflow: hidden;padding: 0;position: absolute;width: 1px;}#sk-container-id-1 div.sk-estimator {font-family: monospace;background-color: #f0f8ff;border: 1px dotted black;border-radius: 0.25em;box-sizing: border-box;margin-bottom: 0.5em;}#sk-container-id-1 div.sk-estimator:hover {background-color: #d4ebff;}#sk-container-id-1 div.sk-parallel-item::after {content: \"\";width: 100%;border-bottom: 1px solid gray;flex-grow: 1;}#sk-container-id-1 div.sk-label:hover label.sk-toggleable__label {background-color: #d4ebff;}#sk-container-id-1 div.sk-serial::before {content: \"\";position: absolute;border-left: 1px solid gray;box-sizing: border-box;top: 0;bottom: 0;left: 50%;z-index: 0;}#sk-container-id-1 div.sk-serial {display: flex;flex-direction: column;align-items: center;background-color: white;padding-right: 0.2em;padding-left: 0.2em;position: relative;}#sk-container-id-1 div.sk-item {position: relative;z-index: 1;}#sk-container-id-1 div.sk-parallel {display: flex;align-items: stretch;justify-content: center;background-color: white;position: relative;}#sk-container-id-1 div.sk-item::before, #sk-container-id-1 div.sk-parallel-item::before {content: \"\";position: absolute;border-left: 1px solid gray;box-sizing: border-box;top: 0;bottom: 0;left: 50%;z-index: -1;}#sk-container-id-1 div.sk-parallel-item {display: flex;flex-direction: column;z-index: 1;position: relative;background-color: white;}#sk-container-id-1 div.sk-parallel-item:first-child::after {align-self: flex-end;width: 50%;}#sk-container-id-1 div.sk-parallel-item:last-child::after {align-self: flex-start;width: 50%;}#sk-container-id-1 div.sk-parallel-item:only-child::after {width: 0;}#sk-container-id-1 div.sk-dashed-wrapped {border: 1px dashed gray;margin: 0 0.4em 0.5em 0.4em;box-sizing: border-box;padding-bottom: 0.4em;background-color: white;}#sk-container-id-1 div.sk-label label {font-family: monospace;font-weight: bold;display: inline-block;line-height: 1.2em;}#sk-container-id-1 div.sk-label-container {text-align: center;}#sk-container-id-1 div.sk-container {/* jupyter's `normalize.less` sets `[hidden] { display: none; }` but bootstrap.min.css set `[hidden] { display: none !important; }` so we also need the `!important` here to be able to override the default hidden behavior on the sphinx rendered scikit-learn.org. See: https://github.com/scikit-learn/scikit-learn/issues/21755 */display: inline-block !important;position: relative;}#sk-container-id-1 div.sk-text-repr-fallback {display: none;}</style><div id=\"sk-container-id-1\" class=\"sk-top-container\"><div class=\"sk-text-repr-fallback\"><pre>DecisionTreeClassifier(random_state=42)</pre><b>In a Jupyter environment, please rerun this cell to show the HTML representation or trust the notebook. <br />On GitHub, the HTML representation is unable to render, please try loading this page with nbviewer.org.</b></div><div class=\"sk-container\" hidden><div class=\"sk-item\"><div class=\"sk-estimator sk-toggleable\"><input class=\"sk-toggleable__control sk-hidden--visually\" id=\"sk-estimator-id-1\" type=\"checkbox\" checked><label for=\"sk-estimator-id-1\" class=\"sk-toggleable__label sk-toggleable__label-arrow\">DecisionTreeClassifier</label><div class=\"sk-toggleable__content\"><pre>DecisionTreeClassifier(random_state=42)</pre></div></div></div></div></div>"
            ]
          },
          "metadata": {},
          "execution_count": 38
        }
      ]
    },
    {
      "cell_type": "code",
      "source": [
        "y_pred = clf.predict(X_val)\n"
      ],
      "metadata": {
        "id": "AYt41zluRu0a"
      },
      "execution_count": null,
      "outputs": []
    },
    {
      "cell_type": "code",
      "source": [
        "print(y_pred)"
      ],
      "metadata": {
        "colab": {
          "base_uri": "https://localhost:8080/"
        },
        "id": "AYz2RXG4S4n7",
        "outputId": "c98f1418-32ca-4047-bbe9-198d89aa025d"
      },
      "execution_count": null,
      "outputs": [
        {
          "output_type": "stream",
          "name": "stdout",
          "text": [
            "[1. 0. 0. ... 0. 1. 0.]\n"
          ]
        }
      ]
    },
    {
      "cell_type": "code",
      "source": [
        "from sklearn.metrics import accuracy_score\n",
        "accuracy = accuracy_score(y_val, y_pred)\n",
        "print(\"Accuracy:\", accuracy)\n",
        "print(classification_report(y_val, y_pred))\n",
        "from sklearn.metrics import mean_squared_error\n",
        "mse = mean_squared_error(y_val, y_pred)\n",
        "print(\"Mean Squared Error:\", mse)\n",
        "from sklearn.tree import plot_tree\n",
        "import matplotlib.pyplot as plt\n",
        "\n"
      ],
      "metadata": {
        "colab": {
          "base_uri": "https://localhost:8080/"
        },
        "id": "ZEUIaRaGRxuF",
        "outputId": "c7a0fbd2-3b9e-4d47-aa4d-f9adf11cfaa6"
      },
      "execution_count": null,
      "outputs": [
        {
          "output_type": "stream",
          "name": "stdout",
          "text": [
            "Accuracy: 0.9542435424354243\n",
            "              precision    recall  f1-score   support\n",
            "\n",
            "         0.0       1.00      0.91      0.95       686\n",
            "         1.0       0.92      1.00      0.96       669\n",
            "\n",
            "    accuracy                           0.95      1355\n",
            "   macro avg       0.96      0.95      0.95      1355\n",
            "weighted avg       0.96      0.95      0.95      1355\n",
            "\n",
            "Mean Squared Error: 0.045756457564575644\n"
          ]
        }
      ]
    },
    {
      "cell_type": "code",
      "source": [],
      "metadata": {
        "id": "csDeiVMYdHO6"
      },
      "execution_count": null,
      "outputs": []
    },
    {
      "cell_type": "code",
      "source": [
        "importances = clf.feature_importances_\n",
        "indices = np.argsort(importances)[::-1]\n",
        "\n",
        "# Print feature ranking\n",
        "print(\"Feature ranking:\")\n",
        "for f in range(X.shape[1]):\n",
        "    print(f\"{f + 1}. feature {indices[f]} ({importances[indices[f]]})\")\n",
        "\n",
        "# Plot the feature importances of the decision tree\n",
        "plt.figure(figsize=(10, 6))\n",
        "plt.title(\"Feature importances\")\n",
        "plt.bar(range(X.shape[1]), importances[indices], color=\"b\", align=\"center\")\n",
        "plt.xticks(range(X.shape[1]), df.columns[indices], rotation=90)\n",
        "plt.xlim([-1, X.shape[1]])\n",
        "plt.tight_layout()\n",
        "plt.show()"
      ],
      "metadata": {
        "colab": {
          "base_uri": "https://localhost:8080/",
          "height": 629
        },
        "id": "2AQDdsy-csU_",
        "outputId": "a63c4d2f-a55c-42d4-a466-6b3a8bb82329"
      },
      "execution_count": null,
      "outputs": [
        {
          "output_type": "stream",
          "name": "stdout",
          "text": [
            "Feature ranking:\n",
            "1. feature 6 (0.3360733562816292)\n",
            "2. feature 1 (0.27742291420373566)\n",
            "3. feature 7 (0.23007056724265568)\n",
            "4. feature 9 (0.03327957339129746)\n",
            "5. feature 10 (0.027007480662007873)\n",
            "6. feature 2 (0.01932319580614171)\n",
            "7. feature 5 (0.017034704838800634)\n",
            "8. feature 0 (0.01628858139059802)\n",
            "9. feature 3 (0.013606420153511918)\n",
            "10. feature 8 (0.011812776778681658)\n",
            "11. feature 4 (0.010120748642745842)\n",
            "12. feature 11 (0.007959680608194492)\n"
          ]
        },
        {
          "output_type": "display_data",
          "data": {
            "text/plain": [
              "<Figure size 1000x600 with 1 Axes>"
            ],
            "image/png": "[encoded data removed]"
          },
          "metadata": {}
        }
      ]
    },
    {
      "cell_type": "markdown",
      "metadata": {
        "id": "avp-m_PDCmco"
      },
      "source": [
        "Just to compute errors later"
      ]
    },
    {
      "cell_type": "code",
      "metadata": {
        "id": "sRldDELV5H_l"
      },
      "source": [
        "scaler = preprocessing.StandardScaler()\n",
        "scaler.fit(X_train)\n",
        "X_train_scaled = scaler.transform(X_train)\n",
        "X_val_scaled = scaler.transform(X_val)"
      ],
      "execution_count": null,
      "outputs": []
    },
    {
      "cell_type": "code",
      "metadata": {
        "id": "83FHkzUm5nXY"
      },
      "source": [
        "bce = BinaryCrossentropy()"
      ],
      "execution_count": null,
      "outputs": []
    },
    {
      "cell_type": "code",
      "source": [
        "from sklearn.linear_model import LogisticRegression\n",
        "model = LogisticRegression(random_state=42)\n",
        "model.fit(X_train, y_train)"
      ],
      "metadata": {
        "colab": {
          "base_uri": "https://localhost:8080/",
          "height": 233
        },
        "id": "C5r7SGy34eUy",
        "outputId": "e3a87cb8-fd5d-4a85-d400-3a0d67c92e72"
      },
      "execution_count": null,
      "outputs": [
        {
          "output_type": "stream",
          "name": "stderr",
          "text": [
            "/usr/local/lib/python3.10/dist-packages/sklearn/linear_model/_logistic.py:458: ConvergenceWarning: lbfgs failed to converge (status=1):\n",
            "STOP: TOTAL NO. of ITERATIONS REACHED LIMIT.\n",
            "\n",
            "Increase the number of iterations (max_iter) or scale the data as shown in:\n",
            "    https://scikit-learn.org/stable/modules/preprocessing.html\n",
            "Please also refer to the documentation for alternative solver options:\n",
            "    https://scikit-learn.org/stable/modules/linear_model.html#logistic-regression\n",
            "  n_iter_i = _check_optimize_result(\n"
          ]
        },
        {
          "output_type": "execute_result",
          "data": {
            "text/plain": [
              "LogisticRegression(random_state=42)"
            ],
            "text/html": [
              "<style>#sk-container-id-8 {color: black;background-color: white;}#sk-container-id-8 pre{padding: 0;}#sk-container-id-8 div.sk-toggleable {background-color: white;}#sk-container-id-8 label.sk-toggleable__label {cursor: pointer;display: block;width: 100%;margin-bottom: 0;padding: 0.3em;box-sizing: border-box;text-align: center;}#sk-container-id-8 label.sk-toggleable__label-arrow:before {content: \"▸\";float: left;margin-right: 0.25em;color: #696969;}#sk-container-id-8 label.sk-toggleable__label-arrow:hover:before {color: black;}#sk-container-id-8 div.sk-estimator:hover label.sk-toggleable__label-arrow:before {color: black;}#sk-container-id-8 div.sk-toggleable__content {max-height: 0;max-width: 0;overflow: hidden;text-align: left;background-color: #f0f8ff;}#sk-container-id-8 div.sk-toggleable__content pre {margin: 0.2em;color: black;border-radius: 0.25em;background-color: #f0f8ff;}#sk-container-id-8 input.sk-toggleable__control:checked~div.sk-toggleable__content {max-height: 200px;max-width: 100%;overflow: auto;}#sk-container-id-8 input.sk-toggleable__control:checked~label.sk-toggleable__label-arrow:before {content: \"▾\";}#sk-container-id-8 div.sk-estimator input.sk-toggleable__control:checked~label.sk-toggleable__label {background-color: #d4ebff;}#sk-container-id-8 div.sk-label input.sk-toggleable__control:checked~label.sk-toggleable__label {background-color: #d4ebff;}#sk-container-id-8 input.sk-hidden--visually {border: 0;clip: rect(1px 1px 1px 1px);clip: rect(1px, 1px, 1px, 1px);height: 1px;margin: -1px;overflow: hidden;padding: 0;position: absolute;width: 1px;}#sk-container-id-8 div.sk-estimator {font-family: monospace;background-color: #f0f8ff;border: 1px dotted black;border-radius: 0.25em;box-sizing: border-box;margin-bottom: 0.5em;}#sk-container-id-8 div.sk-estimator:hover {background-color: #d4ebff;}#sk-container-id-8 div.sk-parallel-item::after {content: \"\";width: 100%;border-bottom: 1px solid gray;flex-grow: 1;}#sk-container-id-8 div.sk-label:hover label.sk-toggleable__label {background-color: #d4ebff;}#sk-container-id-8 div.sk-serial::before {content: \"\";position: absolute;border-left: 1px solid gray;box-sizing: border-box;top: 0;bottom: 0;left: 50%;z-index: 0;}#sk-container-id-8 div.sk-serial {display: flex;flex-direction: column;align-items: center;background-color: white;padding-right: 0.2em;padding-left: 0.2em;position: relative;}#sk-container-id-8 div.sk-item {position: relative;z-index: 1;}#sk-container-id-8 div.sk-parallel {display: flex;align-items: stretch;justify-content: center;background-color: white;position: relative;}#sk-container-id-8 div.sk-item::before, #sk-container-id-8 div.sk-parallel-item::before {content: \"\";position: absolute;border-left: 1px solid gray;box-sizing: border-box;top: 0;bottom: 0;left: 50%;z-index: -1;}#sk-container-id-8 div.sk-parallel-item {display: flex;flex-direction: column;z-index: 1;position: relative;background-color: white;}#sk-container-id-8 div.sk-parallel-item:first-child::after {align-self: flex-end;width: 50%;}#sk-container-id-8 div.sk-parallel-item:last-child::after {align-self: flex-start;width: 50%;}#sk-container-id-8 div.sk-parallel-item:only-child::after {width: 0;}#sk-container-id-8 div.sk-dashed-wrapped {border: 1px dashed gray;margin: 0 0.4em 0.5em 0.4em;box-sizing: border-box;padding-bottom: 0.4em;background-color: white;}#sk-container-id-8 div.sk-label label {font-family: monospace;font-weight: bold;display: inline-block;line-height: 1.2em;}#sk-container-id-8 div.sk-label-container {text-align: center;}#sk-container-id-8 div.sk-container {/* jupyter's `normalize.less` sets `[hidden] { display: none; }` but bootstrap.min.css set `[hidden] { display: none !important; }` so we also need the `!important` here to be able to override the default hidden behavior on the sphinx rendered scikit-learn.org. See: https://github.com/scikit-learn/scikit-learn/issues/21755 */display: inline-block !important;position: relative;}#sk-container-id-8 div.sk-text-repr-fallback {display: none;}</style><div id=\"sk-container-id-8\" class=\"sk-top-container\"><div class=\"sk-text-repr-fallback\"><pre>LogisticRegression(random_state=42)</pre><b>In a Jupyter environment, please rerun this cell to show the HTML representation or trust the notebook. <br />On GitHub, the HTML representation is unable to render, please try loading this page with nbviewer.org.</b></div><div class=\"sk-container\" hidden><div class=\"sk-item\"><div class=\"sk-estimator sk-toggleable\"><input class=\"sk-toggleable__control sk-hidden--visually\" id=\"sk-estimator-id-16\" type=\"checkbox\" checked><label for=\"sk-estimator-id-16\" class=\"sk-toggleable__label sk-toggleable__label-arrow\">LogisticRegression</label><div class=\"sk-toggleable__content\"><pre>LogisticRegression(random_state=42)</pre></div></div></div></div></div>"
            ]
          },
          "metadata": {},
          "execution_count": 91
        }
      ]
    },
    {
      "cell_type": "code",
      "source": [
        "y_pred = model.predict(X_val)\n",
        "print(classification_report(y_val, y_pred))\n"
      ],
      "metadata": {
        "colab": {
          "base_uri": "https://localhost:8080/"
        },
        "id": "ZC6foZVH4tiY",
        "outputId": "3203e05c-10b6-4e1f-bc0f-c27b3f3b0519"
      },
      "execution_count": null,
      "outputs": [
        {
          "output_type": "stream",
          "name": "stdout",
          "text": [
            "              precision    recall  f1-score   support\n",
            "\n",
            "         0.0       0.71      0.65      0.68       686\n",
            "         1.0       0.67      0.72      0.70       669\n",
            "\n",
            "    accuracy                           0.69      1355\n",
            "   macro avg       0.69      0.69      0.69      1355\n",
            "weighted avg       0.69      0.69      0.69      1355\n",
            "\n"
          ]
        }
      ]
    },
    {
      "cell_type": "markdown",
      "metadata": {
        "id": "h_XOp8t9CtG-"
      },
      "source": [
        "Model (Nerual network, binary classification problem)"
      ]
    },
    {
      "cell_type": "code",
      "metadata": {
        "colab": {
          "base_uri": "https://localhost:8080/",
          "height": 842
        },
        "id": "wOlbamL_5ynH",
        "outputId": "da22bd86-d668-42a8-c684-f9fb202383df"
      },
      "source": [
        "\n",
        "import tensorflow as tf\n",
        "model = Sequential()\n",
        "model.add(Dense(2, activation='relu'))\n",
        "model.add(Dense(6, activation='relu'))\n",
        "model.add(Dense(1, activation='sigmoid'))\n",
        "model.compile(loss='binary_crossentropy', metrics = ['accuracy'])\n",
        "model.fit(X_train_scaled,y_train,epochs=100,verbose=0, validation_data = (X_val_scaled,y_val))\n",
        "J_list = model.history.history['loss']\n",
        "plt.plot(J_list)\n",
        "pd.DataFrame(model.history.history)\n"
      ],
      "execution_count": null,
      "outputs": [
        {
          "output_type": "execute_result",
          "data": {
            "text/plain": [
              "        loss  accuracy  val_loss  val_accuracy\n",
              "0   0.693897  0.532365  0.680050      0.550554\n",
              "1   0.672694  0.577898  0.666485      0.599262\n",
              "2   0.657896  0.621954  0.652986      0.630996\n",
              "3   0.644702  0.649274  0.640479      0.660517\n",
              "4   0.632369  0.669702  0.630276      0.671587\n",
              "..       ...       ...       ...           ...\n",
              "95  0.568058  0.716220  0.580999      0.706273\n",
              "96  0.568084  0.713266  0.580193      0.707011\n",
              "97  0.568070  0.713512  0.580295      0.706273\n",
              "98  0.567946  0.714989  0.580083      0.706273\n",
              "99  0.567852  0.716220  0.579576      0.705535\n",
              "\n",
              "[100 rows x 4 columns]"
            ],
            "text/html": [
              "\n",
              "  <div id=\"df-fb085a0b-2b52-4895-9761-083516a0a78b\" class=\"colab-df-container\">\n",
              "    <div>\n",
              "<style scoped>\n",
              "    .dataframe tbody tr th:only-of-type {\n",
              "        vertical-align: middle;\n",
              "    }\n",
              "\n",
              "    .dataframe tbody tr th {\n",
              "        vertical-align: top;\n",
              "    }\n",
              "\n",
              "    .dataframe thead th {\n",
              "        text-align: right;\n",
              "    }\n",
              "</style>\n",
              "<table border=\"1\" class=\"dataframe\">\n",
              "  <thead>\n",
              "    <tr style=\"text-align: right;\">\n",
              "      <th></th>\n",
              "      <th>loss</th>\n",
              "      <th>accuracy</th>\n",
              "      <th>val_loss</th>\n",
              "      <th>val_accuracy</th>\n",
              "    </tr>\n",
              "  </thead>\n",
              "  <tbody>\n",
              "    <tr>\n",
              "      <th>0</th>\n",
              "      <td>0.693897</td>\n",
              "      <td>0.532365</td>\n",
              "      <td>0.680050</td>\n",
              "      <td>0.550554</td>\n",
              "    </tr>\n",
              "    <tr>\n",
              "      <th>1</th>\n",
              "      <td>0.672694</td>\n",
              "      <td>0.577898</td>\n",
              "      <td>0.666485</td>\n",
              "      <td>0.599262</td>\n",
              "    </tr>\n",
              "    <tr>\n",
              "      <th>2</th>\n",
              "      <td>0.657896</td>\n",
              "      <td>0.621954</td>\n",
              "      <td>0.652986</td>\n",
              "      <td>0.630996</td>\n",
              "    </tr>\n",
              "    <tr>\n",
              "      <th>3</th>\n",
              "      <td>0.644702</td>\n",
              "      <td>0.649274</td>\n",
              "      <td>0.640479</td>\n",
              "      <td>0.660517</td>\n",
              "    </tr>\n",
              "    <tr>\n",
              "      <th>4</th>\n",
              "      <td>0.632369</td>\n",
              "      <td>0.669702</td>\n",
              "      <td>0.630276</td>\n",
              "      <td>0.671587</td>\n",
              "    </tr>\n",
              "    <tr>\n",
              "      <th>...</th>\n",
              "      <td>...</td>\n",
              "      <td>...</td>\n",
              "      <td>...</td>\n",
              "      <td>...</td>\n",
              "    </tr>\n",
              "    <tr>\n",
              "      <th>95</th>\n",
              "      <td>0.568058</td>\n",
              "      <td>0.716220</td>\n",
              "      <td>0.580999</td>\n",
              "      <td>0.706273</td>\n",
              "    </tr>\n",
              "    <tr>\n",
              "      <th>96</th>\n",
              "      <td>0.568084</td>\n",
              "      <td>0.713266</td>\n",
              "      <td>0.580193</td>\n",
              "      <td>0.707011</td>\n",
              "    </tr>\n",
              "    <tr>\n",
              "      <th>97</th>\n",
              "      <td>0.568070</td>\n",
              "      <td>0.713512</td>\n",
              "      <td>0.580295</td>\n",
              "      <td>0.706273</td>\n",
              "    </tr>\n",
              "    <tr>\n",
              "      <th>98</th>\n",
              "      <td>0.567946</td>\n",
              "      <td>0.714989</td>\n",
              "      <td>0.580083</td>\n",
              "      <td>0.706273</td>\n",
              "    </tr>\n",
              "    <tr>\n",
              "      <th>99</th>\n",
              "      <td>0.567852</td>\n",
              "      <td>0.716220</td>\n",
              "      <td>0.579576</td>\n",
              "      <td>0.705535</td>\n",
              "    </tr>\n",
              "  </tbody>\n",
              "</table>\n",
              "<p>100 rows × 4 columns</p>\n",
              "</div>\n",
              "    <div class=\"colab-df-buttons\">\n",
              "\n",
              "  <div class=\"colab-df-container\">\n",
              "    <button class=\"colab-df-convert\" onclick=\"convertToInteractive('df-fb085a0b-2b52-4895-9761-083516a0a78b')\"\n",
              "            title=\"Convert this dataframe to an interactive table.\"\n",
              "            style=\"display:none;\">\n",
              "\n",
              "  <svg xmlns=\"http://www.w3.org/2000/svg\" height=\"24px\" viewBox=\"0 -960 960 960\">\n",
              "    <path d=\"M120-120v-720h720v720H120Zm60-500h600v-160H180v160Zm220 220h160v-160H400v160Zm0 220h160v-160H400v160ZM180-400h160v-160H180v160Zm440 0h160v-160H620v160ZM180-180h160v-160H180v160Zm440 0h160v-160H620v160Z\"/>\n",
              "  </svg>\n",
              "    </button>\n",
              "\n",
              "  <style>\n",
              "    .colab-df-container {\n",
              "      display:flex;\n",
              "      gap: 12px;\n",
              "    }\n",
              "\n",
              "    .colab-df-convert {\n",
              "      background-color: #E8F0FE;\n",
              "      border: none;\n",
              "      border-radius: 50%;\n",
              "      cursor: pointer;\n",
              "      display: none;\n",
              "      fill: #1967D2;\n",
              "      height: 32px;\n",
              "      padding: 0 0 0 0;\n",
              "      width: 32px;\n",
              "    }\n",
              "\n",
              "    .colab-df-convert:hover {\n",
              "      background-color: #E2EBFA;\n",
              "      box-shadow: 0px 1px 2px rgba(60, 64, 67, 0.3), 0px 1px 3px 1px rgba(60, 64, 67, 0.15);\n",
              "      fill: #174EA6;\n",
              "    }\n",
              "\n",
              "    .colab-df-buttons div {\n",
              "      margin-bottom: 4px;\n",
              "    }\n",
              "\n",
              "    [theme=dark] .colab-df-convert {\n",
              "      background-color: #3B4455;\n",
              "      fill: #D2E3FC;\n",
              "    }\n",
              "\n",
              "    [theme=dark] .colab-df-convert:hover {\n",
              "      background-color: #434B5C;\n",
              "      box-shadow: 0px 1px 3px 1px rgba(0, 0, 0, 0.15);\n",
              "      filter: drop-shadow(0px 1px 2px rgba(0, 0, 0, 0.3));\n",
              "      fill: #FFFFFF;\n",
              "    }\n",
              "  </style>\n",
              "\n",
              "    <script>\n",
              "      const buttonEl =\n",
              "        document.querySelector('#df-fb085a0b-2b52-4895-9761-083516a0a78b button.colab-df-convert');\n",
              "      buttonEl.style.display =\n",
              "        google.colab.kernel.accessAllowed ? 'block' : 'none';\n",
              "\n",
              "      async function convertToInteractive(key) {\n",
              "        const element = document.querySelector('#df-fb085a0b-2b52-4895-9761-083516a0a78b');\n",
              "        const dataTable =\n",
              "          await google.colab.kernel.invokeFunction('convertToInteractive',\n",
              "                                                    [key], {});\n",
              "        if (!dataTable) return;\n",
              "\n",
              "        const docLinkHtml = 'Like what you see? Visit the ' +\n",
              "          '<a target=\"_blank\" href=https://colab.research.google.com/notebooks/data_table.ipynb>data table notebook</a>'\n",
              "          + ' to learn more about interactive tables.';\n",
              "        element.innerHTML = '';\n",
              "        dataTable['output_type'] = 'display_data';\n",
              "        await google.colab.output.renderOutput(dataTable, element);\n",
              "        const docLink = document.createElement('div');\n",
              "        docLink.innerHTML = docLinkHtml;\n",
              "        element.appendChild(docLink);\n",
              "      }\n",
              "    </script>\n",
              "  </div>\n",
              "\n",
              "\n",
              "<div id=\"df-0c23bfab-5ffc-4ae7-b62f-793c8a598fb4\">\n",
              "  <button class=\"colab-df-quickchart\" onclick=\"quickchart('df-0c23bfab-5ffc-4ae7-b62f-793c8a598fb4')\"\n",
              "            title=\"Suggest charts\"\n",
              "            style=\"display:none;\">\n",
              "\n",
              "<svg xmlns=\"http://www.w3.org/2000/svg\" height=\"24px\"viewBox=\"0 0 24 24\"\n",
              "     width=\"24px\">\n",
              "    <g>\n",
              "        <path d=\"M19 3H5c-1.1 0-2 .9-2 2v14c0 1.1.9 2 2 2h14c1.1 0 2-.9 2-2V5c0-1.1-.9-2-2-2zM9 17H7v-7h2v7zm4 0h-2V7h2v10zm4 0h-2v-4h2v4z\"/>\n",
              "    </g>\n",
              "</svg>\n",
              "  </button>\n",
              "\n",
              "<style>\n",
              "  .colab-df-quickchart {\n",
              "      --bg-color: #E8F0FE;\n",
              "      --fill-color: #1967D2;\n",
              "      --hover-bg-color: #E2EBFA;\n",
              "      --hover-fill-color: #174EA6;\n",
              "      --disabled-fill-color: #AAA;\n",
              "      --disabled-bg-color: #DDD;\n",
              "  }\n",
              "\n",
              "  [theme=dark] .colab-df-quickchart {\n",
              "      --bg-color: #3B4455;\n",
              "      --fill-color: #D2E3FC;\n",
              "      --hover-bg-color: #434B5C;\n",
              "      --hover-fill-color: #FFFFFF;\n",
              "      --disabled-bg-color: #3B4455;\n",
              "      --disabled-fill-color: #666;\n",
              "  }\n",
              "\n",
              "  .colab-df-quickchart {\n",
              "    background-color: var(--bg-color);\n",
              "    border: none;\n",
              "    border-radius: 50%;\n",
              "    cursor: pointer;\n",
              "    display: none;\n",
              "    fill: var(--fill-color);\n",
              "    height: 32px;\n",
              "    padding: 0;\n",
              "    width: 32px;\n",
              "  }\n",
              "\n",
              "  .colab-df-quickchart:hover {\n",
              "    background-color: var(--hover-bg-color);\n",
              "    box-shadow: 0 1px 2px rgba(60, 64, 67, 0.3), 0 1px 3px 1px rgba(60, 64, 67, 0.15);\n",
              "    fill: var(--button-hover-fill-color);\n",
              "  }\n",
              "\n",
              "  .colab-df-quickchart-complete:disabled,\n",
              "  .colab-df-quickchart-complete:disabled:hover {\n",
              "    background-color: var(--disabled-bg-color);\n",
              "    fill: var(--disabled-fill-color);\n",
              "    box-shadow: none;\n",
              "  }\n",
              "\n",
              "  .colab-df-spinner {\n",
              "    border: 2px solid var(--fill-color);\n",
              "    border-color: transparent;\n",
              "    border-bottom-color: var(--fill-color);\n",
              "    animation:\n",
              "      spin 1s steps(1) infinite;\n",
              "  }\n",
              "\n",
              "  @keyframes spin {\n",
              "    0% {\n",
              "      border-color: transparent;\n",
              "      border-bottom-color: var(--fill-color);\n",
              "      border-left-color: var(--fill-color);\n",
              "    }\n",
              "    20% {\n",
              "      border-color: transparent;\n",
              "      border-left-color: var(--fill-color);\n",
              "      border-top-color: var(--fill-color);\n",
              "    }\n",
              "    30% {\n",
              "      border-color: transparent;\n",
              "      border-left-color: var(--fill-color);\n",
              "      border-top-color: var(--fill-color);\n",
              "      border-right-color: var(--fill-color);\n",
              "    }\n",
              "    40% {\n",
              "      border-color: transparent;\n",
              "      border-right-color: var(--fill-color);\n",
              "      border-top-color: var(--fill-color);\n",
              "    }\n",
              "    60% {\n",
              "      border-color: transparent;\n",
              "      border-right-color: var(--fill-color);\n",
              "    }\n",
              "    80% {\n",
              "      border-color: transparent;\n",
              "      border-right-color: var(--fill-color);\n",
              "      border-bottom-color: var(--fill-color);\n",
              "    }\n",
              "    90% {\n",
              "      border-color: transparent;\n",
              "      border-bottom-color: var(--fill-color);\n",
              "    }\n",
              "  }\n",
              "</style>\n",
              "\n",
              "  <script>\n",
              "    async function quickchart(key) {\n",
              "      const quickchartButtonEl =\n",
              "        document.querySelector('#' + key + ' button');\n",
              "      quickchartButtonEl.disabled = true;  // To prevent multiple clicks.\n",
              "      quickchartButtonEl.classList.add('colab-df-spinner');\n",
              "      try {\n",
              "        const charts = await google.colab.kernel.invokeFunction(\n",
              "            'suggestCharts', [key], {});\n",
              "      } catch (error) {\n",
              "        console.error('Error during call to suggestCharts:', error);\n",
              "      }\n",
              "      quickchartButtonEl.classList.remove('colab-df-spinner');\n",
              "      quickchartButtonEl.classList.add('colab-df-quickchart-complete');\n",
              "    }\n",
              "    (() => {\n",
              "      let quickchartButtonEl =\n",
              "        document.querySelector('#df-0c23bfab-5ffc-4ae7-b62f-793c8a598fb4 button');\n",
              "      quickchartButtonEl.style.display =\n",
              "        google.colab.kernel.accessAllowed ? 'block' : 'none';\n",
              "    })();\n",
              "  </script>\n",
              "</div>\n",
              "\n",
              "    </div>\n",
              "  </div>\n"
            ],
            "application/vnd.google.colaboratory.intrinsic+json": {
              "type": "dataframe",
              "summary": "{\n  \"name\": \"pd\",\n  \"rows\": 100,\n  \"fields\": [\n    {\n      \"column\": \"loss\",\n      \"properties\": {\n        \"dtype\": \"number\",\n        \"std\": 0.02106420602331058,\n        \"min\": 0.5678517818450928,\n        \"max\": 0.6938970685005188,\n        \"num_unique_values\": 100,\n        \"samples\": [\n          0.5699464082717896,\n          0.5749607086181641,\n          0.5720768570899963\n        ],\n        \"semantic_type\": \"\",\n        \"description\": \"\"\n      }\n    },\n    {\n      \"column\": \"accuracy\",\n      \"properties\": {\n        \"dtype\": \"number\",\n        \"std\": 0.025573688869922544,\n        \"min\": 0.5323652625083923,\n        \"max\": 0.7186807990074158,\n        \"num_unique_values\": 47,\n        \"samples\": [\n          0.7164656519889832,\n          0.7147427797317505,\n          0.7144966721534729\n        ],\n        \"semantic_type\": \"\",\n        \"description\": \"\"\n      }\n    },\n    {\n      \"column\": \"val_loss\",\n      \"properties\": {\n        \"dtype\": \"number\",\n        \"std\": 0.01634783722606326,\n        \"min\": 0.579576313495636,\n        \"max\": 0.6800495386123657,\n        \"num_unique_values\": 100,\n        \"samples\": [\n          0.5830427408218384,\n          0.5889664888381958,\n          0.5857099294662476\n        ],\n        \"semantic_type\": \"\",\n        \"description\": \"\"\n      }\n    },\n    {\n      \"column\": \"val_accuracy\",\n      \"properties\": {\n        \"dtype\": \"number\",\n        \"std\": 0.021442379959432836,\n        \"min\": 0.5505535006523132,\n        \"max\": 0.7121770977973938,\n        \"num_unique_values\": 30,\n        \"samples\": [\n          0.7055350542068481,\n          0.7018449902534485,\n          0.7084870934486389\n        ],\n        \"semantic_type\": \"\",\n        \"description\": \"\"\n      }\n    }\n  ]\n}"
            }
          },
          "metadata": {},
          "execution_count": 43
        },
        {
          "output_type": "display_data",
          "data": {
            "text/plain": [
              "<Figure size 640x480 with 1 Axes>"
            ],
            "image/png": "[encoded data removed]"
          },
          "metadata": {}
        }
      ]
    },
    {
      "cell_type": "code",
      "source": [
        "from sklearn.inspection import permutation_importance\n",
        "preds_binary = model.predict(X_val_scaled)\n",
        "print(preds_binary)\n",
        "y_val_binary = (y_val).astype(int)\n",
        "# Wrap the model\n",
        "def custom_accuracy(model, X,y):\n",
        "  y_pred= model.predict(X)\n",
        "  y_pred_cat = 1*(y_pred > 0.50)\n",
        "  return accuracy_score(y_pred_cat, y)\n",
        "\n",
        "\n",
        "r = permutation_importance(model, X_val_scaled, y_val, n_repeats=10, scoring=custom_accuracy, random_state=42)\n",
        "\n"
      ],
      "metadata": {
        "colab": {
          "base_uri": "https://localhost:8080/"
        },
        "id": "9wtF9rZRr2q9",
        "outputId": "060a1280-2c55-4493-fcd6-f0012e499b4e"
      },
      "execution_count": null,
      "outputs": [
        {
          "output_type": "stream",
          "name": "stdout",
          "text": [
            "43/43 [==============================] - 0s 1ms/step\n",
            "[[0.60031563]\n",
            " [0.27135926]\n",
            " [0.30415544]\n",
            " ...\n",
            " [0.19197018]\n",
            " [0.8578467 ]\n",
            " [0.24558929]]\n",
            "43/43 [==============================] - 0s 1ms/step\n",
            "43/43 [==============================] - 0s 1ms/step\n",
            "43/43 [==============================] - 0s 1ms/step\n",
            "43/43 [==============================] - 0s 2ms/step\n",
            "43/43 [==============================] - 0s 1ms/step\n",
            "43/43 [==============================] - 0s 1ms/step\n",
            "43/43 [==============================] - 0s 1ms/step\n",
            "43/43 [==============================] - 0s 2ms/step\n",
            "43/43 [==============================] - 0s 2ms/step\n",
            "43/43 [==============================] - 0s 2ms/step\n",
            "43/43 [==============================] - 0s 1ms/step\n",
            "43/43 [==============================] - 0s 1ms/step\n",
            "43/43 [==============================] - 0s 1ms/step\n",
            "43/43 [==============================] - 0s 2ms/step\n",
            "43/43 [==============================] - 0s 2ms/step\n",
            "43/43 [==============================] - 0s 1ms/step\n",
            "43/43 [==============================] - 0s 1ms/step\n",
            "43/43 [==============================] - 0s 1ms/step\n",
            "43/43 [==============================] - 0s 1ms/step\n",
            "43/43 [==============================] - 0s 2ms/step\n",
            "43/43 [==============================] - 0s 2ms/step\n",
            "43/43 [==============================] - 0s 1ms/step\n",
            "43/43 [==============================] - 0s 1ms/step\n",
            "43/43 [==============================] - 0s 1ms/step\n",
            "43/43 [==============================] - 0s 1ms/step\n",
            "43/43 [==============================] - 0s 2ms/step\n",
            "43/43 [==============================] - 0s 2ms/step\n",
            "43/43 [==============================] - 0s 1ms/step\n",
            "43/43 [==============================] - 0s 1ms/step\n",
            "43/43 [==============================] - 0s 1ms/step\n",
            "43/43 [==============================] - 0s 1ms/step\n",
            "43/43 [==============================] - 0s 1ms/step\n",
            "43/43 [==============================] - 0s 1ms/step\n",
            "43/43 [==============================] - 0s 1ms/step\n",
            "43/43 [==============================] - 0s 1ms/step\n",
            "43/43 [==============================] - 0s 1ms/step\n",
            "43/43 [==============================] - 0s 2ms/step\n",
            "43/43 [==============================] - 0s 1ms/step\n",
            "43/43 [==============================] - 0s 1ms/step\n",
            "43/43 [==============================] - 0s 1ms/step\n",
            "43/43 [==============================] - 0s 2ms/step\n",
            "43/43 [==============================] - 0s 2ms/step\n",
            "43/43 [==============================] - 0s 3ms/step\n",
            "43/43 [==============================] - 0s 2ms/step\n",
            "43/43 [==============================] - 0s 2ms/step\n",
            "43/43 [==============================] - 0s 2ms/step\n",
            "43/43 [==============================] - 0s 2ms/step\n",
            "43/43 [==============================] - 0s 2ms/step\n",
            "43/43 [==============================] - 0s 2ms/step\n",
            "43/43 [==============================] - 0s 2ms/step\n",
            "43/43 [==============================] - 0s 2ms/step\n",
            "43/43 [==============================] - 0s 3ms/step\n",
            "43/43 [==============================] - 0s 2ms/step\n",
            "43/43 [==============================] - 0s 2ms/step\n",
            "43/43 [==============================] - 0s 2ms/step\n",
            "43/43 [==============================] - 0s 2ms/step\n",
            "43/43 [==============================] - 0s 2ms/step\n",
            "43/43 [==============================] - 0s 2ms/step\n",
            "43/43 [==============================] - 0s 2ms/step\n",
            "43/43 [==============================] - 0s 3ms/step\n",
            "43/43 [==============================] - 0s 1ms/step\n",
            "43/43 [==============================] - 0s 1ms/step\n",
            "43/43 [==============================] - 0s 1ms/step\n",
            "43/43 [==============================] - 0s 2ms/step\n",
            "43/43 [==============================] - 0s 1ms/step\n",
            "43/43 [==============================] - 0s 1ms/step\n",
            "43/43 [==============================] - 0s 1ms/step\n",
            "43/43 [==============================] - 0s 1ms/step\n",
            "43/43 [==============================] - 0s 1ms/step\n",
            "43/43 [==============================] - 0s 2ms/step\n",
            "43/43 [==============================] - 0s 1ms/step\n",
            "43/43 [==============================] - 0s 1ms/step\n",
            "43/43 [==============================] - 0s 1ms/step\n",
            "43/43 [==============================] - 0s 1ms/step\n",
            "43/43 [==============================] - 0s 2ms/step\n",
            "43/43 [==============================] - 0s 2ms/step\n",
            "43/43 [==============================] - 0s 1ms/step\n",
            "43/43 [==============================] - 0s 1ms/step\n",
            "43/43 [==============================] - 0s 1ms/step\n",
            "43/43 [==============================] - 0s 2ms/step\n",
            "43/43 [==============================] - 0s 1ms/step\n",
            "43/43 [==============================] - 0s 1ms/step\n",
            "43/43 [==============================] - 0s 1ms/step\n",
            "43/43 [==============================] - 0s 1ms/step\n",
            "43/43 [==============================] - 0s 2ms/step\n",
            "43/43 [==============================] - 0s 1ms/step\n",
            "43/43 [==============================] - 0s 1ms/step\n",
            "43/43 [==============================] - 0s 1ms/step\n",
            "43/43 [==============================] - 0s 1ms/step\n",
            "43/43 [==============================] - 0s 1ms/step\n",
            "43/43 [==============================] - 0s 2ms/step\n",
            "43/43 [==============================] - 0s 2ms/step\n",
            "43/43 [==============================] - 0s 2ms/step\n",
            "43/43 [==============================] - 0s 1ms/step\n",
            "43/43 [==============================] - 0s 2ms/step\n",
            "43/43 [==============================] - 0s 1ms/step\n",
            "43/43 [==============================] - 0s 1ms/step\n",
            "43/43 [==============================] - 0s 1ms/step\n",
            "43/43 [==============================] - 0s 1ms/step\n",
            "43/43 [==============================] - 0s 1ms/step\n",
            "43/43 [==============================] - 0s 2ms/step\n",
            "43/43 [==============================] - 0s 1ms/step\n",
            "43/43 [==============================] - 0s 2ms/step\n",
            "43/43 [==============================] - 0s 2ms/step\n",
            "43/43 [==============================] - 0s 2ms/step\n",
            "43/43 [==============================] - 0s 2ms/step\n",
            "43/43 [==============================] - 0s 1ms/step\n",
            "43/43 [==============================] - 0s 1ms/step\n",
            "43/43 [==============================] - 0s 1ms/step\n",
            "43/43 [==============================] - 0s 1ms/step\n",
            "43/43 [==============================] - 0s 1ms/step\n",
            "43/43 [==============================] - 0s 1ms/step\n",
            "43/43 [==============================] - 0s 2ms/step\n",
            "43/43 [==============================] - 0s 2ms/step\n",
            "43/43 [==============================] - 0s 2ms/step\n",
            "43/43 [==============================] - 0s 2ms/step\n",
            "43/43 [==============================] - 0s 2ms/step\n",
            "43/43 [==============================] - 0s 2ms/step\n",
            "43/43 [==============================] - 0s 2ms/step\n",
            "43/43 [==============================] - 0s 3ms/step\n",
            "43/43 [==============================] - 0s 2ms/step\n"
          ]
        }
      ]
    },
    {
      "cell_type": "code",
      "source": [
        "  type(y_val[0])"
      ],
      "metadata": {
        "colab": {
          "base_uri": "https://localhost:8080/"
        },
        "id": "d2-6JpgitGT0",
        "outputId": "ca079b41-82d8-4419-87c9-1fba3f59c4db"
      },
      "execution_count": null,
      "outputs": [
        {
          "output_type": "execute_result",
          "data": {
            "text/plain": [
              "numpy.float64"
            ]
          },
          "metadata": {},
          "execution_count": 102
        }
      ]
    },
    {
      "cell_type": "code",
      "source": [
        "  import matplotlib.pyplot as plt\n",
        "  for i in r.importances_mean.argsort()[::-1]:\n",
        "\n",
        "        print(f\"{df.columns[i]:<8}\"\n",
        "              f\"{r.importances_mean[i]:.3f}\"\n",
        "              f\" +/- {r.importances_std[i]:.3f}\")\n",
        "\n",
        "# importances = r.importances_mean\n",
        "# std = r.importances_std\n",
        "# features = df.columns\n",
        "\n",
        "# indices = np.argsort(importances)\n",
        "# sorted_importances = importances[indices]\n",
        "# sorted_features = np.array(features)[indices]\n",
        "# sorted_std = std[indices]\n",
        "# sorted_importances = sorted_importances[::-1]\n",
        "# sorted_features = sorted_features[::-1]\n",
        "# sorted_std = sorted_std[::-1]\n",
        "\n",
        "# plt.bar(range(len(sorted_importances)), sorted_importances, yerr=sorted_std, align='center')\n",
        "# plt.xticks(range(len(sorted_importances)), sorted_features, rotation=90)"
      ],
      "metadata": {
        "colab": {
          "base_uri": "https://localhost:8080/"
        },
        "id": "J_pbPoY2vbXy",
        "outputId": "e1ec101b-7834-4c1c-cd09-14c40d6d3ba4"
      },
      "execution_count": null,
      "outputs": [
        {
          "output_type": "stream",
          "name": "stdout",
          "text": [
            "age     0.154 +/- 0.013\n",
            "avg_glucose_level0.026 +/- 0.005\n",
            "heart_disease0.017 +/- 0.003\n",
            "Residence_type0.012 +/- 0.002\n",
            "smokes  0.011 +/- 0.003\n",
            "hypertension0.010 +/- 0.004\n",
            "formerly_smoked0.004 +/- 0.001\n",
            "Unknown 0.003 +/- 0.002\n",
            "ever_married0.003 +/- 0.002\n",
            "never_smoked0.002 +/- 0.003\n",
            "bmi     -0.000 +/- 0.002\n",
            "gender  -0.002 +/- 0.001\n"
          ]
        }
      ]
    },
    {
      "cell_type": "code",
      "source": [],
      "metadata": {
        "id": "LVcCvryYs_Ho"
      },
      "execution_count": null,
      "outputs": []
    },
    {
      "cell_type": "code",
      "metadata": {
        "colab": {
          "base_uri": "https://localhost:8080/"
        },
        "id": "UQ87H4hl6SCC",
        "outputId": "ec0833f4-f02a-4179-d380-5809c13fd51a"
      },
      "source": [
        "y_val_hat = model.predict(X_val_scaled)\n",
        "print('Validation error =',bce(y_val.reshape(-1,1), y_val_hat).numpy())\n",
        "\n",
        "y_train_hat = model.predict(X_train_scaled)\n",
        "print('Training error =',bce(y_train.reshape(-1,1), y_train_hat).numpy())"
      ],
      "execution_count": null,
      "outputs": [
        {
          "output_type": "stream",
          "name": "stdout",
          "text": [
            "43/43 [==============================] - 0s 1ms/step\n",
            "Validation error = 0.5795761\n",
            "127/127 [==============================] - 0s 1ms/step\n",
            "Training error = 0.56695503\n"
          ]
        }
      ]
    },
    {
      "cell_type": "code",
      "metadata": {
        "colab": {
          "base_uri": "https://localhost:8080/",
          "height": 159
        },
        "id": "bRoRSQeq7CLj",
        "outputId": "cde771fb-fca8-45e7-c6b9-790f5ef37bfe"
      },
      "source": [
        "   y_train_hat_cat = 1*(y_train_hat > 0.50)\n",
        "print(classification_report(y_train,y_train_hat_cat))"
      ],
      "execution_count": null,
      "outputs": [
        {
          "output_type": "error",
          "ename": "NameError",
          "evalue": "name 'y_train_hat' is not defined",
          "traceback": [
            "\u001b[0;31m---------------------------------------------------------------------------\u001b[0m",
            "\u001b[0;31mNameError\u001b[0m                                 Traceback (most recent call last)",
            "\u001b[0;32m<ipython-input-45-d9f35ae93213>\u001b[0m in \u001b[0;36m<cell line: 1>\u001b[0;34m()\u001b[0m\n\u001b[0;32m----> 1\u001b[0;31m \u001b[0my_train_hat_cat\u001b[0m \u001b[0;34m=\u001b[0m \u001b[0;36m1\u001b[0m\u001b[0;34m*\u001b[0m\u001b[0;34m(\u001b[0m\u001b[0my_train_hat\u001b[0m \u001b[0;34m>\u001b[0m \u001b[0;36m0.50\u001b[0m\u001b[0;34m)\u001b[0m\u001b[0;34m\u001b[0m\u001b[0;34m\u001b[0m\u001b[0m\n\u001b[0m\u001b[1;32m      2\u001b[0m \u001b[0mprint\u001b[0m\u001b[0;34m(\u001b[0m\u001b[0mclassification_report\u001b[0m\u001b[0;34m(\u001b[0m\u001b[0my_train\u001b[0m\u001b[0;34m,\u001b[0m\u001b[0my_train_hat_cat\u001b[0m\u001b[0;34m)\u001b[0m\u001b[0;34m)\u001b[0m\u001b[0;34m\u001b[0m\u001b[0;34m\u001b[0m\u001b[0m\n",
            "\u001b[0;31mNameError\u001b[0m: name 'y_train_hat' is not defined"
          ]
        }
      ]
    },
    {
      "cell_type": "code",
      "metadata": {
        "colab": {
          "base_uri": "https://localhost:8080/"
        },
        "id": "lt6IkbTI7NMc",
        "outputId": "6e2c6240-8c81-40e3-9a29-340296bb8bc4"
      },
      "source": [
        "y_val_hat_cat = 1*(y_val_hat > 0.50)\n",
        "print(classification_report(y_val,y_val_hat_cat))"
      ],
      "execution_count": null,
      "outputs": [
        {
          "output_type": "stream",
          "name": "stdout",
          "text": [
            "              precision    recall  f1-score   support\n",
            "\n",
            "         0.0       0.72      0.70      0.71       686\n",
            "         1.0       0.70      0.72      0.71       669\n",
            "\n",
            "    accuracy                           0.71      1355\n",
            "   macro avg       0.71      0.71      0.71      1355\n",
            "weighted avg       0.71      0.71      0.71      1355\n",
            "\n"
          ]
        }
      ]
    },
    {
      "cell_type": "code",
      "source": [
        "   from sklearn.metrics import f1_score\n",
        "xarr = np.array([])\n",
        "yarr=np.array([])\n",
        "highest =0\n",
        "highestx=0\n",
        "for i in range(1000):\n",
        "\n",
        "  y_val_hat_cat = 1*(y_val_hat > float(i)/1000)\n",
        "  if(f1_score(y_val, y_val_hat_cat) > highest):\n",
        "    highest = f1_score(y_val, y_val_hat_cat)\n",
        "    highestx=float(i)/1000\n",
        "  yarr= np.append(yarr,f1_score(y_val, y_val_hat_cat))\n",
        "  xarr= np.append(xarr,float(i)/1000 )\n",
        "\n",
        "print(highestx)\n"
      ],
      "metadata": {
        "colab": {
          "base_uri": "https://localhost:8080/"
        },
        "id": "dGZGCKviwy9M",
        "outputId": "f2c6c3e3-314b-4b50-f0ea-2be37560f2b9"
      },
      "execution_count": null,
      "outputs": [
        {
          "output_type": "stream",
          "name": "stdout",
          "text": [
            "0.344\n"
          ]
        }
      ]
    },
    {
      "cell_type": "code",
      "source": [
        "yarr"
      ],
      "metadata": {
        "colab": {
          "base_uri": "https://localhost:8080/"
        },
        "id": "dQKL1YXox6rz",
        "outputId": "dc1ee8d8-c81c-4db1-c467-40609bafe343"
      },
      "execution_count": null,
      "outputs": [
        {
          "output_type": "execute_result",
          "data": {
            "text/plain": [
              "array([0.49372694, 0.49372694, 0.49372694, 0.49372694, 0.49372694,\n",
              "       0.49372694, 0.49372694, 0.49372694, 0.49372694, 0.49372694,\n",
              "       0.49372694, 0.49372694, 0.49372694, 0.49372694, 0.49372694,\n",
              "       0.49372694, 0.49372694, 0.49372694, 0.49372694, 0.49372694,\n",
              "       0.49372694, 0.49372694, 0.49372694, 0.49372694, 0.49372694,\n",
              "       0.49372694, 0.49372694, 0.49372694, 0.49372694, 0.49372694,\n",
              "       0.49372694, 0.49372694, 0.49372694, 0.49372694, 0.49372694,\n",
              "       0.49372694, 0.49446494, 0.49520295, 0.49520295, 0.49520295,\n",
              "       0.49520295, 0.49520295, 0.49520295, 0.49520295, 0.49520295,\n",
              "       0.49520295, 0.49520295, 0.49594096, 0.49667897, 0.49667897,\n",
              "       0.49889299, 0.49889299, 0.499631  , 0.500369  , 0.500369  ,\n",
              "       0.50110701, 0.50184502, 0.50258303, 0.50332103, 0.50332103,\n",
              "       0.50332103, 0.50479705, 0.50479705, 0.50553506, 0.50627306,\n",
              "       0.50701107, 0.50405904, 0.50405904, 0.50405904, 0.50553506,\n",
              "       0.50553506, 0.50553506, 0.50553506, 0.50553506, 0.50627306,\n",
              "       0.50479705, 0.50701107, 0.50848708, 0.50627306, 0.50701107,\n",
              "       0.50774908, 0.50774908, 0.50848708, 0.50922509, 0.5099631 ,\n",
              "       0.5099631 , 0.5099631 , 0.5099631 , 0.5099631 , 0.51143911,\n",
              "       0.51143911, 0.51217712, 0.51291513, 0.51365314, 0.51439114,\n",
              "       0.51881919, 0.52177122, 0.52250923, 0.52250923, 0.52398524,\n",
              "       0.52546125, 0.52619926, 0.52693727, 0.52693727, 0.52841328,\n",
              "       0.52841328, 0.52841328, 0.52915129, 0.5298893 , 0.53062731,\n",
              "       0.53210332, 0.53284133, 0.53505535, 0.53653137, 0.53800738,\n",
              "       0.53800738, 0.53874539, 0.53874539, 0.53948339, 0.54095941,\n",
              "       0.53653137, 0.53726937, 0.53874539, 0.53579336, 0.53726937,\n",
              "       0.53874539, 0.5402214 , 0.54095941, 0.54169742, 0.54317343,\n",
              "       0.54317343, 0.54464945, 0.54538745, 0.54612546, 0.54612546,\n",
              "       0.54686347, 0.54833948, 0.5498155 , 0.55129151, 0.55202952,\n",
              "       0.55129151, 0.55202952, 0.55276753, 0.55350554, 0.55350554,\n",
              "       0.55350554, 0.55498155, 0.55645756, 0.55719557, 0.55793358,\n",
              "       0.55867159, 0.55867159, 0.55867159, 0.55867159, 0.55867159,\n",
              "       0.55940959, 0.5601476 , 0.56383764, 0.56605166, 0.56678967,\n",
              "       0.56531365, 0.56678967, 0.56826568, 0.56826568, 0.5697417 ,\n",
              "       0.5704797 , 0.57121771, 0.57269373, 0.57490775, 0.57564576,\n",
              "       0.57638376, 0.57785978, 0.57859779, 0.57933579, 0.57933579,\n",
              "       0.5800738 , 0.57859779, 0.57638376, 0.57933579, 0.58081181,\n",
              "       0.57859779, 0.57859779, 0.5800738 , 0.5800738 , 0.58081181,\n",
              "       0.58302583, 0.58302583, 0.58450185, 0.58450185, 0.58450185,\n",
              "       0.58523985, 0.58523985, 0.58597786, 0.58597786, 0.58671587,\n",
              "       0.58671587, 0.58892989, 0.58523985, 0.58597786, 0.58745387,\n",
              "       0.58745387, 0.58892989, 0.5904059 , 0.5904059 , 0.59114391,\n",
              "       0.59114391, 0.59188192, 0.59409594, 0.59483395, 0.59704797,\n",
              "       0.59704797, 0.59704797, 0.59704797, 0.59852399, 0.59926199,\n",
              "       0.59778598, 0.59778598, 0.59852399, 0.59852399, 0.59926199,\n",
              "       0.60073801, 0.60073801, 0.60221402, 0.60295203, 0.6       ,\n",
              "       0.60147601, 0.60147601, 0.60221402, 0.60295203, 0.60442804,\n",
              "       0.60516605, 0.60516605, 0.60590406, 0.60590406, 0.60590406,\n",
              "       0.60590406, 0.60664207, 0.60811808, 0.60811808, 0.60811808,\n",
              "       0.60811808, 0.60811808, 0.60885609, 0.6095941 , 0.6103321 ,\n",
              "       0.6103321 , 0.61180812, 0.61254613, 0.61328413, 0.61328413,\n",
              "       0.61402214, 0.61476015, 0.61623616, 0.61623616, 0.61697417,\n",
              "       0.61771218, 0.6199262 , 0.62066421, 0.62066421, 0.62066421,\n",
              "       0.62066421, 0.62066421, 0.62140221, 0.62287823, 0.62287823,\n",
              "       0.62509225, 0.62583026, 0.62656827, 0.62730627, 0.62730627,\n",
              "       0.62804428, 0.6295203 , 0.6302583 , 0.63099631, 0.63099631,\n",
              "       0.63247232, 0.63247232, 0.63394834, 0.63468635, 0.63616236,\n",
              "       0.63616236, 0.63616236, 0.63690037, 0.63763838, 0.63837638,\n",
              "       0.63837638, 0.63911439, 0.6398524 , 0.6398524 , 0.64059041,\n",
              "       0.64132841, 0.64132841, 0.64206642, 0.64280443, 0.64280443,\n",
              "       0.64354244, 0.64575646, 0.64649446, 0.64723247, 0.64797048,\n",
              "       0.64797048, 0.64797048, 0.6501845 , 0.6501845 , 0.65166052,\n",
              "       0.65092251, 0.64575646, 0.64723247, 0.64797048, 0.64797048,\n",
              "       0.64428044, 0.64575646, 0.64575646, 0.64575646, 0.64649446,\n",
              "       0.64649446, 0.64870849, 0.64575646, 0.64575646, 0.64575646,\n",
              "       0.64723247, 0.64870849, 0.6501845 , 0.65166052, 0.65166052,\n",
              "       0.65166052, 0.65239852, 0.65239852, 0.65387454, 0.65535055,\n",
              "       0.65682657, 0.65682657, 0.65682657, 0.65830258, 0.6597786 ,\n",
              "       0.66125461, 0.66199262, 0.66199262, 0.66199262, 0.66273063,\n",
              "       0.66346863, 0.66420664, 0.66568266, 0.66642066, 0.66715867,\n",
              "       0.66715867, 0.66642066, 0.66715867, 0.66568266, 0.66642066,\n",
              "       0.66642066, 0.66642066, 0.66715867, 0.66568266, 0.66568266,\n",
              "       0.66568266, 0.66420664, 0.66051661, 0.66125461, 0.66125461,\n",
              "       0.66273063, 0.66273063, 0.66420664, 0.66420664, 0.66494465,\n",
              "       0.66568266, 0.66568266, 0.66642066, 0.66789668, 0.66937269,\n",
              "       0.66937269, 0.66937269, 0.67084871, 0.67232472, 0.6701107 ,\n",
              "       0.67084871, 0.66715867, 0.66789668, 0.66789668, 0.67084871,\n",
              "       0.67158672, 0.67306273, 0.67380074, 0.67380074, 0.67380074,\n",
              "       0.67453875, 0.66937269, 0.66937269, 0.66937269, 0.66937269,\n",
              "       0.66937269, 0.6701107 , 0.67084871, 0.6701107 , 0.66789668,\n",
              "       0.66937269, 0.6701107 , 0.67084871, 0.67232472, 0.67380074,\n",
              "       0.67601476, 0.67675277, 0.67675277, 0.67749077, 0.67896679,\n",
              "       0.67896679, 0.67896679, 0.67896679, 0.6797048 , 0.6804428 ,\n",
              "       0.6804428 , 0.68191882, 0.68191882, 0.68191882, 0.68265683,\n",
              "       0.68339483, 0.68118081, 0.68118081, 0.68118081, 0.68191882,\n",
              "       0.68191882, 0.68191882, 0.68191882, 0.68265683, 0.68339483,\n",
              "       0.68339483, 0.68339483, 0.68339483, 0.68339483, 0.68339483,\n",
              "       0.68413284, 0.68413284, 0.6804428 , 0.68118081, 0.68191882,\n",
              "       0.68265683, 0.68265683, 0.68339483, 0.68118081, 0.68191882,\n",
              "       0.68413284, 0.68413284, 0.68191882, 0.68191882, 0.68191882,\n",
              "       0.6797048 , 0.6804428 , 0.6804428 , 0.68118081, 0.68191882,\n",
              "       0.68118081, 0.68191882, 0.68191882, 0.68191882, 0.68191882,\n",
              "       0.68191882, 0.68339483, 0.68413284, 0.68413284, 0.68413284,\n",
              "       0.68413284, 0.68413284, 0.68487085, 0.68560886, 0.68634686,\n",
              "       0.68634686, 0.68708487, 0.68708487, 0.68929889, 0.68634686,\n",
              "       0.68487085, 0.68560886, 0.68782288, 0.68782288, 0.68782288,\n",
              "       0.68929889, 0.68929889, 0.69077491, 0.69151292, 0.69225092,\n",
              "       0.69225092, 0.69372694, 0.69372694, 0.69372694, 0.69225092,\n",
              "       0.69225092, 0.69225092, 0.69225092, 0.69225092, 0.69594096,\n",
              "       0.69446494, 0.69520295, 0.69594096, 0.69667897, 0.69741697,\n",
              "       0.69446494, 0.69446494, 0.69151292, 0.69225092, 0.69077491,\n",
              "       0.69225092, 0.69225092, 0.69298893, 0.69151292, 0.69225092,\n",
              "       0.69298893, 0.69372694, 0.69594096, 0.69667897, 0.69741697,\n",
              "       0.69815498, 0.69815498, 0.69815498, 0.69815498, 0.69446494,\n",
              "       0.69446494, 0.69446494, 0.69446494, 0.69594096, 0.69298893,\n",
              "       0.69372694, 0.69446494, 0.69298893, 0.69372694, 0.69446494,\n",
              "       0.69520295, 0.69446494, 0.69372694, 0.69446494, 0.69520295,\n",
              "       0.69594096, 0.69520295, 0.69520295, 0.69594096, 0.69815498,\n",
              "       0.69815498, 0.69372694, 0.69372694, 0.69372694, 0.69446494,\n",
              "       0.69151292, 0.69520295, 0.69446494, 0.69520295, 0.69520295,\n",
              "       0.69594096, 0.69741697, 0.69741697, 0.69741697, 0.69741697,\n",
              "       0.69815498, 0.69815498, 0.69889299, 0.69889299, 0.699631  ,\n",
              "       0.699631  , 0.70110701, 0.70184502, 0.70184502, 0.70184502,\n",
              "       0.70184502, 0.70184502, 0.70184502, 0.70332103, 0.70479705,\n",
              "       0.70627306, 0.70701107, 0.70848708, 0.70627306, 0.70627306,\n",
              "       0.70701107, 0.70774908, 0.7099631 , 0.7099631 , 0.7099631 ,\n",
              "       0.70479705, 0.70553506, 0.70553506, 0.70627306, 0.70627306,\n",
              "       0.70479705, 0.70627306, 0.70627306, 0.70479705, 0.70405904,\n",
              "       0.70405904, 0.69889299, 0.69889299, 0.699631  , 0.69298893,\n",
              "       0.69372694, 0.69372694, 0.69225092, 0.69225092, 0.69298893,\n",
              "       0.69298893, 0.69298893, 0.69225092, 0.69225092, 0.69298893,\n",
              "       0.69298893, 0.69298893, 0.69298893, 0.69520295, 0.69298893,\n",
              "       0.69298893, 0.69298893, 0.69372694, 0.69077491, 0.69077491,\n",
              "       0.6900369 , 0.69298893, 0.69225092, 0.69298893, 0.68782288,\n",
              "       0.68782288, 0.68856089, 0.69077491, 0.69151292, 0.69151292,\n",
              "       0.69298893, 0.69298893, 0.69225092, 0.69372694, 0.69298893,\n",
              "       0.69298893, 0.6900369 , 0.6900369 , 0.6900369 , 0.69077491,\n",
              "       0.69151292, 0.69151292, 0.68856089, 0.68856089, 0.68856089,\n",
              "       0.6900369 , 0.69151292, 0.69151292, 0.69225092, 0.69298893,\n",
              "       0.69077491, 0.68782288, 0.68560886, 0.68560886, 0.68560886,\n",
              "       0.68265683, 0.68339483, 0.68118081, 0.68191882, 0.68118081,\n",
              "       0.68118081, 0.68118081, 0.67896679, 0.67749077, 0.67749077,\n",
              "       0.67453875, 0.67232472, 0.67232472, 0.67380074, 0.67380074,\n",
              "       0.67380074, 0.67306273, 0.67380074, 0.67527675, 0.67527675,\n",
              "       0.67084871, 0.67232472, 0.67306273, 0.67306273, 0.67380074,\n",
              "       0.67527675, 0.6701107 , 0.6701107 , 0.6701107 , 0.66789668,\n",
              "       0.66789668, 0.66789668, 0.66789668, 0.66642066, 0.66494465,\n",
              "       0.66273063, 0.65904059, 0.65682657, 0.65682657, 0.65682657,\n",
              "       0.65461255, 0.65461255, 0.65461255, 0.65535055, 0.65461255,\n",
              "       0.65535055, 0.65313653, 0.65461255, 0.65535055, 0.65682657,\n",
              "       0.65682657, 0.65756458, 0.65535055, 0.65535055, 0.65239852,\n",
              "       0.65239852, 0.64870849, 0.64944649, 0.6501845 , 0.6501845 ,\n",
              "       0.6501845 , 0.65092251, 0.64354244, 0.64428044, 0.64280443,\n",
              "       0.64354244, 0.64723247, 0.64723247, 0.64723247, 0.64723247,\n",
              "       0.64723247, 0.64723247, 0.64723247, 0.64280443, 0.6398524 ,\n",
              "       0.63837638, 0.63837638, 0.6398524 , 0.6398524 , 0.6398524 ,\n",
              "       0.6398524 , 0.6398524 , 0.6398524 , 0.6398524 , 0.64059041,\n",
              "       0.64132841, 0.63911439, 0.63911439, 0.6398524 , 0.6398524 ,\n",
              "       0.6398524 , 0.63616236, 0.63690037, 0.63763838, 0.63468635,\n",
              "       0.63468635, 0.63321033, 0.63321033, 0.63468635, 0.63468635,\n",
              "       0.63542435, 0.63616236, 0.63542435, 0.63542435, 0.63542435,\n",
              "       0.63542435, 0.63616236, 0.63690037, 0.63837638, 0.63837638,\n",
              "       0.63321033, 0.62804428, 0.62804428, 0.62583026, 0.62583026,\n",
              "       0.62361624, 0.62435424, 0.61845018, 0.61918819, 0.61918819,\n",
              "       0.61918819, 0.61918819, 0.61254613, 0.61328413, 0.61328413,\n",
              "       0.61402214, 0.61476015, 0.61476015, 0.61180812, 0.60738007,\n",
              "       0.60738007, 0.60442804, 0.60442804, 0.60147601, 0.59557196,\n",
              "       0.50627306, 0.50627306, 0.50627306, 0.50627306, 0.50627306,\n",
              "       0.50627306, 0.50627306, 0.50627306, 0.50627306, 0.50627306,\n",
              "       0.50627306, 0.50627306, 0.50627306, 0.50627306, 0.50627306,\n",
              "       0.50627306, 0.50627306, 0.50627306, 0.50627306, 0.50627306,\n",
              "       0.50627306, 0.50627306, 0.50627306, 0.50627306, 0.50627306,\n",
              "       0.50627306, 0.50627306, 0.50627306, 0.50627306, 0.50627306,\n",
              "       0.50627306, 0.50627306, 0.50627306, 0.50627306, 0.50627306,\n",
              "       0.50627306, 0.50627306, 0.50627306, 0.50627306, 0.50627306,\n",
              "       0.50627306, 0.50627306, 0.50627306, 0.50627306, 0.50627306,\n",
              "       0.50627306, 0.50627306, 0.50627306, 0.50627306, 0.50627306,\n",
              "       0.50627306, 0.50627306, 0.50627306, 0.50627306, 0.50627306,\n",
              "       0.50627306, 0.50627306, 0.50627306, 0.50627306, 0.50627306,\n",
              "       0.50627306, 0.50627306, 0.50627306, 0.50627306, 0.50627306,\n",
              "       0.50627306, 0.50627306, 0.50627306, 0.50627306, 0.50627306,\n",
              "       0.50627306, 0.50627306, 0.50627306, 0.50627306, 0.50627306,\n",
              "       0.50627306, 0.50627306, 0.50627306, 0.50627306, 0.50627306,\n",
              "       0.50627306, 0.50627306, 0.50627306, 0.50627306, 0.50627306,\n",
              "       0.50627306, 0.50627306, 0.50627306, 0.50627306, 0.50627306,\n",
              "       0.50627306, 0.50627306, 0.50627306, 0.50627306, 0.50627306,\n",
              "       0.50627306, 0.50627306, 0.50627306, 0.50627306, 0.50627306,\n",
              "       0.50627306, 0.50627306, 0.50627306, 0.50627306, 0.50627306,\n",
              "       0.50627306, 0.50627306, 0.50627306, 0.50627306, 0.50627306,\n",
              "       0.50627306, 0.50627306, 0.50627306, 0.50627306, 0.50627306,\n",
              "       0.50627306, 0.50627306, 0.50627306, 0.50627306, 0.50627306,\n",
              "       0.50627306, 0.50627306, 0.50627306, 0.50627306, 0.50627306,\n",
              "       0.50627306, 0.50627306, 0.50627306, 0.50627306, 0.50627306,\n",
              "       0.50627306, 0.50627306, 0.50627306, 0.50627306, 0.50627306,\n",
              "       0.50627306, 0.50627306, 0.50627306, 0.50627306, 0.50627306,\n",
              "       0.50627306, 0.50627306, 0.50627306, 0.50627306, 0.50627306,\n",
              "       0.50627306, 0.50627306, 0.50627306, 0.50627306, 0.50627306,\n",
              "       0.50627306, 0.50627306, 0.50627306, 0.50627306, 0.50627306,\n",
              "       0.50627306, 0.50627306, 0.50627306, 0.50627306, 0.50627306,\n",
              "       0.50627306, 0.50627306, 0.50627306, 0.50627306, 0.50627306,\n",
              "       0.50627306, 0.50627306, 0.50627306, 0.50627306, 0.50627306,\n",
              "       0.50627306, 0.50627306, 0.50627306, 0.50627306, 0.50627306,\n",
              "       0.50627306, 0.50627306, 0.50627306, 0.50627306, 0.50627306,\n",
              "       0.50627306, 0.50627306, 0.50627306, 0.50627306, 0.50627306,\n",
              "       0.50627306, 0.50627306, 0.50627306, 0.50627306, 0.50627306,\n",
              "       0.50627306, 0.50627306, 0.50627306, 0.50627306, 0.50627306,\n",
              "       0.50627306, 0.50627306, 0.50627306, 0.50627306, 0.50627306,\n",
              "       0.50627306, 0.50627306, 0.50627306, 0.50627306, 0.50627306,\n",
              "       0.50627306, 0.50627306, 0.50627306, 0.50627306, 0.50627306,\n",
              "       0.50627306, 0.50627306, 0.50627306, 0.50627306, 0.50627306,\n",
              "       0.50627306, 0.50627306, 0.50627306, 0.50627306, 0.50627306])"
            ]
          },
          "metadata": {},
          "execution_count": 133
        }
      ]
    },
    {
      "cell_type": "code",
      "source": [
        "plt.figure(figsize=(8, 6))  # Optional: Adjust figure size\n",
        "plt.plot(xarr, yarr, marker='o', linestyle='-', color='b', label='Array Values',markersize=2)"
      ],
      "metadata": {
        "colab": {
          "base_uri": "https://localhost:8080/",
          "height": 522
        },
        "id": "CCap-Dh2xsOs",
        "outputId": "05882c8c-96d7-41c6-bec1-73df66a9e124"
      },
      "execution_count": null,
      "outputs": [
        {
          "output_type": "execute_result",
          "data": {
            "text/plain": [
              "[<matplotlib.lines.Line2D at 0x7dcc44ba2ad0>]"
            ]
          },
          "metadata": {},
          "execution_count": 139
        },
        {
          "output_type": "display_data",
          "data": {
            "text/plain": [
              "<Figure size 800x600 with 1 Axes>"
            ],
            "image/png": "[encoded data removed]"
          },
          "metadata": {}
        }
      ]
    },
    {
      "cell_type": "code",
      "source": [
        "  X_val.shape"
      ],
      "metadata": {
        "id": "lrhM4R_fsqDk"
      },
      "execution_count": null,
      "outputs": []
    },
    {
      "cell_type": "code",
      "source": [
        "from sklearn.ensemble import RandomForestClassifier\n",
        "rfc = RandomForestClassifier()\n",
        "\n",
        "rfc.fit(X_train_scaled,y_train)\n",
        "\n",
        "rfc_tuned_pred = rfc.predict(X_val_scaled)\n",
        "print(classification_report(y_val,rfc_tuned_pred))\n",
        "\n",
        "print('Accuracy Score: ',accuracy_score(y_val,rfc_tuned_pred))\n"
      ],
      "metadata": {
        "id": "5v0xZsVov1tM",
        "colab": {
          "base_uri": "https://localhost:8080/",
          "height": 349
        },
        "outputId": "4f1125e1-9f88-43e6-cdc4-32551d1b1ef1"
      },
      "execution_count": null,
      "outputs": [
        {
          "output_type": "stream",
          "name": "stdout",
          "text": [
            "              precision    recall  f1-score   support\n",
            "\n",
            "         0.0       1.00      0.97      0.98       686\n",
            "         1.0       0.97      1.00      0.98       669\n",
            "\n",
            "    accuracy                           0.98      1355\n",
            "   macro avg       0.98      0.98      0.98      1355\n",
            "weighted avg       0.98      0.98      0.98      1355\n",
            "\n",
            "Accuracy Score:  0.9837638376383764\n"
          ]
        },
        {
          "output_type": "error",
          "ename": "NameError",
          "evalue": "name 'f1_score' is not defined",
          "traceback": [
            "\u001b[0;31m---------------------------------------------------------------------------\u001b[0m",
            "\u001b[0;31mNameError\u001b[0m                                 Traceback (most recent call last)",
            "\u001b[0;32m<ipython-input-50-19024cc7110a>\u001b[0m in \u001b[0;36m<cell line: 10>\u001b[0;34m()\u001b[0m\n\u001b[1;32m      8\u001b[0m \u001b[0;34m\u001b[0m\u001b[0m\n\u001b[1;32m      9\u001b[0m \u001b[0mprint\u001b[0m\u001b[0;34m(\u001b[0m\u001b[0;34m'Accuracy Score: '\u001b[0m\u001b[0;34m,\u001b[0m\u001b[0maccuracy_score\u001b[0m\u001b[0;34m(\u001b[0m\u001b[0my_val\u001b[0m\u001b[0;34m,\u001b[0m\u001b[0mrfc_tuned_pred\u001b[0m\u001b[0;34m)\u001b[0m\u001b[0;34m)\u001b[0m\u001b[0;34m\u001b[0m\u001b[0;34m\u001b[0m\u001b[0m\n\u001b[0;32m---> 10\u001b[0;31m \u001b[0mprint\u001b[0m\u001b[0;34m(\u001b[0m\u001b[0;34m'F1 Score: '\u001b[0m\u001b[0;34m,\u001b[0m\u001b[0mf1_score\u001b[0m\u001b[0;34m(\u001b[0m\u001b[0my_val\u001b[0m\u001b[0;34m,\u001b[0m\u001b[0mrfc_tuned_pred\u001b[0m\u001b[0;34m)\u001b[0m\u001b[0;34m)\u001b[0m\u001b[0;34m\u001b[0m\u001b[0;34m\u001b[0m\u001b[0m\n\u001b[0m",
            "\u001b[0;31mNameError\u001b[0m: name 'f1_score' is not defined"
          ]
        }
      ]
    },
    {
      "cell_type": "code",
      "source": [],
      "metadata": {
        "id": "u4ILub5g87RZ"
      },
      "execution_count": null,
      "outputs": []
    }
  ]
}